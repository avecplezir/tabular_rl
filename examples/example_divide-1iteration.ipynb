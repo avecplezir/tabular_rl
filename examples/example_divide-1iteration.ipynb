{
 "cells": [
  {
   "cell_type": "code",
   "execution_count": 12,
   "metadata": {},
   "outputs": [
    {
     "name": "stdout",
     "output_type": "stream",
     "text": [
      "Value iteration converged after 5 iterations.\n",
      "goal_reached 1\n",
      "goal_reached 1\n",
      "goal_reached 2\n",
      "goal_reached 2\n",
      "goal_reached 3\n",
      "goal_reached 4\n",
      "goal_reached 4\n",
      "goal_reached 2\n",
      "goal_reached 1\n",
      "goal_reached 1\n",
      "goal_reached 2\n",
      "goal_reached 3\n",
      "goal_reached 4\n",
      "goal_reached 4\n"
     ]
    },
    {
     "data": {
      "image/png": "[encoded data removed]",
      "text/plain": [
       "<Figure size 432x288 with 14 Axes>"
      ]
     },
     "metadata": {
      "needs_background": "light"
     },
     "output_type": "display_data"
    }
   ],
   "source": [
    "import sys\n",
    "sys.path.append(\"..\")\n",
    "import numpy as np\n",
    "from env.grid_world_multitask import GridWorld\n",
    "from algorithms.dynamic_programming_multitask import value_iteration\n",
    "from utils.plots_multitask import plot_gridworld, plot_gridworld_subtasks\n",
    "import copy\n",
    "\n",
    "###########################################################\n",
    "#          Run value iteration on a grid world            #\n",
    "###########################################################\n",
    "\n",
    "# # specify world parameters\n",
    "num_cols = 3\n",
    "num_rows = 3\n",
    "obstructions = np.array([[1,0],[1,2]])\n",
    "start_state = np.array([[0,0], [0,2]])\n",
    "start_states_plot = start_state\n",
    "goal_states = np.array([[0,0], [0,1], [0,2], [1, 1], [2, 1], [2,2], [2, 0]])\n",
    "goal_states_plot = goal_states\n",
    "\n",
    "# specify world parameters\n",
    "# num_cols = 4\n",
    "# num_rows = 5\n",
    "# all_states = [ [i, j] for j in range(num_cols) for i in range(num_rows)]\n",
    "# obstructions = [[2,1],[2,2]]\n",
    "# goal_states = np.array([ el for el in all_states if el not in obstructions])\n",
    "# obstructions = np.array(obstructions)\n",
    "# start_states_plot = goal_states[4:5]\n",
    "# goal_states_plot = goal_states[5:]\n",
    "\n",
    "# create model\n",
    "gw = GridWorld(num_rows=num_rows,\n",
    "               num_cols=num_cols,\n",
    "               start_state=start_state,\n",
    "               goal_states=goal_states)\n",
    "gw.add_obstructions(\n",
    "                    obstructed_states=obstructions,\n",
    "                    # bad_states=bad_states,\n",
    "                    # restart_states=restart_states\n",
    "                    )\n",
    "gw.add_rewards(\n",
    "               step_reward=0,\n",
    "               goal_reward=1,\n",
    "               bad_state_reward=0,\n",
    "               restart_state_reward=0)\n",
    "gw.add_transition_probability(p_good_transition=1.,\n",
    "                              bias=0.)\n",
    "gw.add_discount(discount=0.9)\n",
    "model = gw.create_gridworld()\n",
    "\n",
    "# print('model created')\n",
    "\n",
    "# solve with value iteration\n",
    "value_function, policy = value_iteration(model, maxiter=100)\n",
    "\n",
    "# print('policy created')\n",
    "\n",
    "# print('policy', policy.shape)\n",
    "\n",
    "# plot the results\n",
    "path = \"../doc/imgs/value_iteration.png\"\n",
    "plot_gridworld(model, value_function=value_function, policy=policy,\n",
    "               # title=\"Value iteration\",\n",
    "               path=path,\n",
    "               start_states=start_states_plot, goal_states=goal_states_plot)\n",
    "\n",
    "# print('plot saved')"
   ]
  },
  {
   "cell_type": "code",
   "execution_count": 13,
   "metadata": {},
   "outputs": [],
   "source": [
    "value_function = value_function[:, :, 0]"
   ]
  },
  {
   "cell_type": "code",
   "execution_count": 14,
   "metadata": {},
   "outputs": [
    {
     "data": {
      "text/plain": [
       "(10, 10)"
      ]
     },
     "execution_count": 14,
     "metadata": {},
     "output_type": "execute_result"
    }
   ],
   "source": [
    "value_function.shape"
   ]
  },
  {
   "cell_type": "code",
   "execution_count": 15,
   "metadata": {},
   "outputs": [],
   "source": [
    "from utils.helper_functions import row_col_to_seq, seq_to_col_row"
   ]
  },
  {
   "cell_type": "code",
   "execution_count": 16,
   "metadata": {},
   "outputs": [],
   "source": [
    "def find_plot_pi_hat(y_hat, model, index):\n",
    "    pi_hat = np.ones((model.num_states, model.num_states, 1))\n",
    "    val_hat_ = np.zeros((model.num_states, model.num_states, 1))\n",
    "    val_hat_[index[:, 0], index[:, 1], 0] = y_hat\n",
    "\n",
    "    # compute the policy\n",
    "    for state in range(model.num_states):\n",
    "        for goal in model.goal_states_seq:\n",
    "            P = copy.deepcopy(model.P)\n",
    "            P[goal, :, :] = 0\n",
    "            P[goal, model.num_states - 1, :] = 1\n",
    "            pi_hat[state, goal] = np.argmax(np.sum(val_hat_[:, goal, :] * P[state,:,:],0))\n",
    "\n",
    "    # plot the results\n",
    "    path = \"../doc/imgs/value_iteration.png\"\n",
    "    plot_gridworld(model, value_function=val_hat_, policy=pi_hat,\n",
    "                   # title=\"Value iteration\",\n",
    "                   path=path,\n",
    "                   start_states=start_states_plot, goal_states=goal_states_plot)"
   ]
  },
  {
   "cell_type": "code",
   "execution_count": 17,
   "metadata": {},
   "outputs": [],
   "source": [
    "import torch\n",
    "from torch import nn\n",
    "from torch.utils.data import DataLoader\n",
    "from sklearn.datasets import load_boston\n",
    "from sklearn.preprocessing import StandardScaler"
   ]
  },
  {
   "cell_type": "markdown",
   "metadata": {},
   "source": [
    "# Devide"
   ]
  },
  {
   "cell_type": "code",
   "execution_count": 18,
   "metadata": {},
   "outputs": [],
   "source": [
    "# mean, std = 0., 1.\n",
    "mean, std = np.mean(goal_states, axis=0), np.std(goal_states, axis=0)\n",
    "device = 'cpu'"
   ]
  },
  {
   "cell_type": "code",
   "execution_count": 19,
   "metadata": {},
   "outputs": [
    {
     "data": {
      "text/plain": [
       "array([0.9258201 , 0.75592895])"
      ]
     },
     "execution_count": 19,
     "metadata": {},
     "output_type": "execute_result"
    }
   ],
   "source": [
    "std"
   ]
  },
  {
   "cell_type": "code",
   "execution_count": 20,
   "metadata": {},
   "outputs": [],
   "source": [
    "class ValueDataset(torch.utils.data.Dataset):\n",
    "    def __init__(self, value_function, start_states, goal_states, model, mean=None, std=None):\n",
    "        self.value_function = value_function\n",
    "        self.start_states = start_states\n",
    "        self.goal_states = goal_states\n",
    "        self.start_states_seq = row_col_to_seq(self.start_states, model.num_cols)\n",
    "        self.goal_states_seq = row_col_to_seq(self.goal_states, model.num_cols)\n",
    "        self.start_states = (self.start_states - mean) / std\n",
    "        self.goal_states = (self.goal_states - mean) / std\n",
    "        self.start_dict = {k: v for k, v in zip(self.start_states_seq, self.start_states)}\n",
    "        self.goal_dict = {k: v for k, v in zip(self.goal_states_seq, self.goal_states)}\n",
    "        \n",
    "    def __len__(self):\n",
    "        return len(self.start_states_seq)*len(self.goal_states_seq)\n",
    "\n",
    "    def __getitem__(self, idx):\n",
    "        s_idx = idx % len(self.goal_states_seq) #start index\n",
    "        g_idx = idx // len(self.goal_states_seq) #goal index\n",
    "        s = self.start_states_seq[s_idx]\n",
    "        g = self.goal_states_seq[g_idx]\n",
    "        if s==g:\n",
    "            g = self.goal_states_seq[np.random.randint(len(self.goal_states_seq)) % len(self.goal_states_seq)]\n",
    "        v_x = self.value_function[s, g]\n",
    "        x = np.hstack([self.start_dict[s], self.goal_dict[g]])\n",
    "        xsm = []\n",
    "        xmg = []\n",
    "        v_xsm = []\n",
    "        v_xmg = []\n",
    "        for m in self.start_states_seq:\n",
    "            xsm.append(np.hstack([self.start_dict[s], self.goal_dict[m]]))\n",
    "            xmg.append(np.hstack([self.start_dict[m], self.goal_dict[g]]))\n",
    "            v_xsm.append(self.value_function[s, m])\n",
    "            v_xmg.append(self.value_function[m, g])\n",
    "\n",
    "        xsm = np.array(xsm)\n",
    "        xmg = np.array(xmg)\n",
    "        v_xsm = np.array(v_xsm)\n",
    "        v_xmg = np.array(v_xmg)\n",
    "        return x, xsm, xmg, v_x, v_xsm, v_xmg "
   ]
  },
  {
   "cell_type": "code",
   "execution_count": 21,
   "metadata": {},
   "outputs": [],
   "source": [
    "# Prepare dataset\n",
    "dataset = ValueDataset(value_function,\n",
    "                       start_states=goal_states, goal_states=goal_states,\n",
    "                       model=model, \n",
    "                       mean=mean, std=std\n",
    "                      )\n",
    "trainloader = torch.utils.data.DataLoader(dataset, batch_size=256, shuffle=True, num_workers=0)"
   ]
  },
  {
   "cell_type": "code",
   "execution_count": 22,
   "metadata": {},
   "outputs": [],
   "source": [
    "class DC(nn.Module):\n",
    "    def __init__(self, middle_dim=8, n_states=7, states=None, mean=0, std=1, device='cpu'):\n",
    "        super().__init__()\n",
    "        self.layers = nn.Sequential(\n",
    "          nn.Linear(4, middle_dim),\n",
    "              nn.LeakyReLU(),\n",
    "              nn.Linear(middle_dim, 1),\n",
    "#               nn.LeakyReLU(),\n",
    "#               nn.Linear(64, 1)\n",
    "        )\n",
    "        \n",
    "        middle_proba_dim = 16\n",
    "        self.proba = nn.Sequential(\n",
    "            nn.Linear(4, middle_proba_dim),\n",
    "            nn.LeakyReLU(),\n",
    "            nn.Linear(middle_proba_dim, middle_proba_dim),\n",
    "            nn.LeakyReLU(),\n",
    "            nn.Linear(middle_proba_dim, n_states+1),\n",
    "            nn.Softmax()\n",
    "        )\n",
    "        \n",
    "        self.states_original = states\n",
    "        self.mean = mean\n",
    "        self.std = std\n",
    "        self.states = (self.states_original - mean) / std\n",
    "        \n",
    "    def prepare_data(self, s, g):\n",
    "        x = np.hstack([s, g])\n",
    "        x_s_m = []\n",
    "        x_m_g = []\n",
    "        for m in self.states:\n",
    "            xsm = np.hstack([s, m])\n",
    "            xmg = np.hstack([m, g])\n",
    "            x_s_m.append(xsm)\n",
    "            x_m_g.append(xmg)\n",
    "        \n",
    "        x_s_m = np.array(x_s_m)\n",
    "        x_m_g = np.array(x_m_g)\n",
    "        \n",
    "        data = torch.tensor(x[None]).float().to(device), \\\n",
    "        torch.tensor(x_s_m[None]).float().to(device), torch.tensor(x_m_g[None]).float().to(device)\n",
    "        \n",
    "        return data\n",
    "        \n",
    "\n",
    "    def forward(self, data):\n",
    "        x, x_s_m, x_m_g = data\n",
    "        p = self.proba(x)\n",
    "        y_x = self.layers(x)\n",
    "        y_xsm = self.layers(x_s_m)\n",
    "        y_xmg = self.layers(x_m_g)\n",
    "        subpaths = y_xsm[:, :, 0]*y_xmg[:, :, 0]\n",
    "        paths = torch.cat([y_x, subpaths], 1)\n",
    "        return p, paths, y_x, y_xsm, y_xmg\n"
   ]
  },
  {
   "cell_type": "code",
   "execution_count": 23,
   "metadata": {},
   "outputs": [],
   "source": [
    "# Initialize the MLP\n",
    "mlp = DC(states=goal_states, \n",
    "         mean=mean, std=std,\n",
    "         n_states=len(goal_states),\n",
    "        )\n",
    "\n",
    "# Define the loss function and optimizer\n",
    "# loss_function = nn.L1Loss()\n",
    "optimizer = torch.optim.SGD(mlp.parameters(), lr=1e-2)"
   ]
  },
  {
   "cell_type": "code",
   "execution_count": 24,
   "metadata": {
    "scrolled": false
   },
   "outputs": [
    {
     "name": "stderr",
     "output_type": "stream",
     "text": [
      "/Users/ivananokhin/opt/anaconda3/lib/python3.8/site-packages/torch/nn/modules/container.py:139: UserWarning: Implicit dimension choice for softmax has been deprecated. Change the call to include dim=X as an argument.\n",
      "  input = module(input)\n"
     ]
    },
    {
     "name": "stdout",
     "output_type": "stream",
     "text": [
      "Loss: -1.832\n",
      "v_list argmax tensor([0, 0, 0, 0, 0, 0, 0, 0, 0, 0, 0, 0, 0, 0, 0, 0, 0, 0, 0, 0, 0, 0, 0, 0,\n",
      "        0, 0, 0, 0, 0, 0, 0, 0, 0, 0, 0, 0, 0, 0, 0, 0, 0, 0, 0, 0, 0, 0, 0, 0,\n",
      "        0])\n",
      "p argrmax tensor([0, 1, 0, 3, 0, 1, 0, 3, 1, 0, 0, 0, 0, 0, 3, 3, 3, 0, 0, 0, 3, 0, 1, 0,\n",
      "        1, 3, 0, 3, 0, 3, 3, 3, 0, 3, 3, 0, 3, 3, 0, 0, 3, 3, 3, 3, 3, 3, 3, 0,\n",
      "        0])\n",
      "v_list tensor([0.9000, 0.5905, 0.7290, 0.5905, 0.9000, 0.9000, 0.7290, 0.7290])\n",
      "p tensor([0.1433, 0.1356, 0.0949, 0.1398, 0.1364, 0.1318, 0.1147, 0.1034],\n",
      "       grad_fn=<SelectBackward>)\n",
      "Loss: -2.682\n",
      "v_list argmax tensor([0, 0, 0, 0, 0, 0, 0, 0, 0, 0, 0, 0, 0, 0, 0, 0, 0, 0, 0, 0, 0, 0, 0, 0,\n",
      "        0, 0, 0, 0, 0, 0, 0, 0, 0, 0, 0, 0, 0, 0, 0, 0, 0, 0, 0, 0, 0, 0, 0, 0,\n",
      "        0])\n",
      "p argrmax tensor([4, 0, 0, 0, 4, 0, 0, 3, 4, 0, 0, 0, 4, 0, 0, 0, 5, 0, 0, 0, 4, 0, 0, 6,\n",
      "        5, 0, 4, 4, 4, 0, 0, 0, 0, 4, 0, 4, 4, 0, 0, 0, 4, 4, 0, 0, 0, 0, 4, 0,\n",
      "        0])\n",
      "v_list tensor([0.9000, 0.4783, 0.5905, 0.4783, 0.7290, 0.9000, 0.7290, 0.9000])\n",
      "p tensor([0.1333, 0.1115, 0.1126, 0.1277, 0.1446, 0.1430, 0.1124, 0.1150],\n",
      "       grad_fn=<SelectBackward>)\n",
      "Loss: -2.718\n",
      "v_list argmax tensor([0, 0, 0, 0, 0, 0, 0, 0, 0, 0, 0, 0, 0, 0, 0, 0, 0, 0, 0, 0, 0, 0, 0, 0,\n",
      "        0, 0, 0, 0, 0, 0, 0, 0, 0, 0, 0, 0, 0, 0, 0, 0, 0, 0, 0, 0, 0, 0, 0, 0,\n",
      "        0])\n",
      "p argrmax tensor([0, 6, 4, 4, 0, 0, 0, 4, 4, 0, 0, 0, 0, 2, 2, 0, 0, 4, 0, 0, 4, 4, 2, 4,\n",
      "        4, 4, 0, 4, 4, 2, 4, 2, 2, 4, 0, 2, 0, 0, 0, 0, 0, 2, 0, 0, 4, 0, 0, 4,\n",
      "        4])\n",
      "v_list tensor([0.7290, 0.5905, 0.7290, 0.5905, 0.7290, 0.7290, 0.7290, 0.5905])\n",
      "p tensor([0.1348, 0.1305, 0.1329, 0.1191, 0.1259, 0.1199, 0.1198, 0.1171],\n",
      "       grad_fn=<SelectBackward>)\n",
      "Loss: -2.723\n",
      "v_list argmax tensor([0, 0, 0, 0, 0, 0, 0, 0, 0, 0, 0, 0, 0, 0, 0, 0, 0, 0, 0, 0, 0, 0, 0, 0,\n",
      "        0, 0, 0, 0, 0, 0, 0, 0, 0, 0, 0, 0, 0, 0, 0, 0, 0, 0, 0, 0, 0, 0, 0, 0,\n",
      "        0])\n",
      "p argrmax tensor([0, 2, 4, 0, 2, 4, 4, 4, 4, 0, 4, 4, 4, 2, 4, 0, 2, 2, 4, 4, 4, 4, 4, 0,\n",
      "        0, 4, 0, 0, 0, 4, 4, 2, 4, 0, 2, 0, 4, 4, 0, 2, 0, 0, 4, 0, 2, 0, 0, 0,\n",
      "        0])\n",
      "v_list tensor([0.8100, 0.6561, 0.8100, 0.8100, 0.8100, 0.6561, 0.5314, 0.5314])\n",
      "p tensor([0.1447, 0.1202, 0.1361, 0.1307, 0.1195, 0.1264, 0.1108, 0.1116],\n",
      "       grad_fn=<SelectBackward>)\n",
      "Loss: -2.724\n",
      "v_list argmax tensor([0, 0, 0, 0, 0, 0, 0, 0, 0, 0, 0, 0, 0, 0, 0, 0, 0, 0, 0, 0, 0, 0, 0, 0,\n",
      "        0, 0, 0, 0, 0, 0, 0, 0, 0, 0, 0, 0, 0, 0, 0, 0, 0, 0, 0, 0, 0, 0, 0, 0,\n",
      "        0])\n",
      "p argrmax tensor([5, 4, 2, 4, 0, 4, 0, 2, 2, 0, 0, 4, 0, 4, 2, 0, 4, 0, 0, 4, 0, 0, 0, 0,\n",
      "        4, 2, 0, 2, 0, 0, 4, 0, 0, 4, 4, 2, 2, 0, 0, 4, 4, 4, 4, 4, 0, 4, 4, 0,\n",
      "        2])\n",
      "v_list tensor([0.9000, 0.4783, 0.5905, 0.4783, 0.7290, 0.9000, 0.7290, 0.9000])\n",
      "p tensor([0.1334, 0.1059, 0.1207, 0.1215, 0.1422, 0.1434, 0.1131, 0.1198],\n",
      "       grad_fn=<SelectBackward>)\n",
      "Loss: -2.728\n",
      "v_list argmax tensor([0, 0, 0, 0, 0, 0, 0, 0, 0, 0, 0, 0, 0, 0, 0, 0, 0, 0, 0, 0, 0, 0, 0, 0,\n",
      "        0, 0, 0, 0, 0, 0, 0, 0, 0, 0, 0, 0, 0, 0, 0, 0, 0, 0, 0, 0, 0, 0, 0, 0,\n",
      "        0])\n",
      "p argrmax tensor([4, 2, 0, 4, 0, 2, 0, 4, 4, 2, 2, 4, 2, 0, 0, 4, 4, 5, 4, 2, 4, 4, 4, 0,\n",
      "        0, 0, 0, 2, 4, 0, 4, 0, 0, 0, 0, 0, 0, 0, 0, 4, 5, 2, 0, 0, 2, 0, 5, 4,\n",
      "        0])\n",
      "v_list tensor([0.8100, 0.5314, 0.6561, 0.5314, 0.8100, 0.8100, 0.8100, 0.6561])\n",
      "p tensor([0.1398, 0.1206, 0.1207, 0.1111, 0.1403, 0.1316, 0.1221, 0.1139],\n",
      "       grad_fn=<SelectBackward>)\n",
      "Loss: -2.731\n",
      "v_list argmax tensor([0, 0, 0, 0, 0, 0, 0, 0, 0, 0, 0, 0, 0, 0, 0, 0, 0, 0, 0, 0, 0, 0, 0, 0,\n",
      "        0, 0, 0, 0, 0, 0, 0, 0, 0, 0, 0, 0, 0, 0, 0, 0, 0, 0, 0, 0, 0, 0, 0, 0,\n",
      "        0])\n",
      "p argrmax tensor([5, 0, 0, 0, 5, 0, 0, 2, 5, 0, 4, 2, 2, 0, 0, 4, 0, 2, 0, 4, 0, 0, 0, 2,\n",
      "        0, 0, 0, 0, 0, 0, 0, 0, 2, 4, 5, 2, 5, 4, 0, 0, 4, 0, 4, 2, 0, 4, 0, 2,\n",
      "        2])\n",
      "v_list tensor([0.9000, 0.4783, 0.5905, 0.4783, 0.7290, 0.9000, 0.7290, 0.9000])\n",
      "p tensor([0.1347, 0.1087, 0.1194, 0.1193, 0.1377, 0.1406, 0.1170, 0.1226],\n",
      "       grad_fn=<SelectBackward>)\n",
      "Loss: -2.736\n",
      "v_list argmax tensor([0, 0, 0, 0, 0, 0, 0, 0, 0, 0, 0, 0, 0, 0, 0, 0, 0, 0, 0, 0, 0, 0, 0, 0,\n",
      "        0, 0, 0, 0, 0, 0, 0, 0, 0, 0, 0, 0, 0, 0, 0, 0, 0, 0, 0, 0, 0, 0, 0, 0,\n",
      "        0])\n",
      "p argrmax tensor([5, 2, 2, 0, 5, 2, 2, 0, 0, 0, 0, 0, 0, 0, 4, 5, 5, 0, 0, 0, 0, 0, 5, 0,\n",
      "        0, 2, 2, 0, 0, 0, 4, 4, 0, 0, 0, 0, 0, 4, 0, 2, 4, 4, 0, 2, 0, 0, 4, 0,\n",
      "        5])\n",
      "v_list tensor([0.9000, 0.4783, 0.5905, 0.4783, 0.7290, 0.9000, 0.7290, 0.9000])\n",
      "p tensor([0.1351, 0.1082, 0.1195, 0.1185, 0.1367, 0.1408, 0.1175, 0.1238],\n",
      "       grad_fn=<SelectBackward>)\n",
      "Loss: -2.732\n",
      "v_list argmax tensor([0, 0, 0, 0, 0, 0, 0, 0, 0, 0, 0, 0, 0, 0, 0, 0, 0, 0, 0, 0, 0, 0, 0, 0,\n",
      "        0, 0, 0, 0, 0, 0, 0, 0, 0, 0, 0, 0, 0, 0, 0, 0, 0, 0, 0, 0, 0, 0, 0, 0,\n",
      "        0])\n",
      "p argrmax tensor([5, 0, 2, 2, 5, 0, 0, 4, 0, 0, 0, 2, 0, 0, 0, 0, 0, 0, 2, 0, 2, 2, 5, 4,\n",
      "        5, 0, 0, 0, 4, 0, 5, 4, 5, 0, 0, 0, 5, 0, 0, 0, 0, 2, 5, 0, 0, 0, 0, 4,\n",
      "        4])\n",
      "v_list tensor([1.0000, 0.4305, 0.5314, 0.4305, 0.6561, 0.8100, 1.0000, 0.6561])\n",
      "p tensor([0.1325, 0.1107, 0.1259, 0.1112, 0.1354, 0.1385, 0.1326, 0.1133],\n",
      "       grad_fn=<SelectBackward>)\n",
      "Loss: -2.737\n",
      "v_list argmax tensor([0, 0, 0, 0, 0, 0, 0, 0, 0, 0, 0, 0, 0, 0, 0, 0, 0, 0, 0, 0, 0, 0, 0, 0,\n",
      "        0, 0, 0, 0, 0, 0, 0, 0, 0, 0, 0, 0, 0, 0, 0, 0, 0, 0, 0, 0, 0, 0, 0, 0,\n",
      "        0])\n",
      "p argrmax tensor([0, 0, 4, 0, 5, 2, 4, 5, 0, 4, 0, 5, 0, 0, 0, 0, 0, 0, 0, 0, 2, 0, 2, 0,\n",
      "        0, 2, 0, 2, 0, 0, 0, 5, 4, 0, 4, 0, 5, 0, 0, 5, 4, 0, 0, 5, 0, 2, 4, 0,\n",
      "        0])\n",
      "v_list tensor([0.8100, 0.6561, 0.8100, 0.8100, 0.8100, 0.6561, 0.5314, 0.5314])\n",
      "p tensor([0.1392, 0.1153, 0.1289, 0.1144, 0.1319, 0.1327, 0.1186, 0.1190],\n",
      "       grad_fn=<SelectBackward>)\n",
      "Loss: -2.741\n",
      "v_list argmax tensor([0, 0, 0, 0, 0, 0, 0, 0, 0, 0, 0, 0, 0, 0, 0, 0, 0, 0, 0, 0, 0, 0, 0, 0,\n",
      "        0, 0, 0, 0, 0, 0, 0, 0, 0, 0, 0, 0, 0, 0, 0, 0, 0, 0, 0, 0, 0, 0, 0, 0,\n",
      "        0])\n",
      "p argrmax tensor([5, 0, 5, 5, 0, 0, 2, 4, 0, 0, 2, 0, 0, 0, 2, 2, 2, 0, 0, 0, 5, 0, 0, 4,\n",
      "        0, 5, 0, 4, 0, 5, 0, 0, 5, 0, 0, 0, 5, 0, 4, 0, 0, 0, 4, 0, 4, 0, 5, 0,\n",
      "        2])\n",
      "v_list tensor([1.0000, 0.4305, 0.5314, 0.4305, 0.6561, 0.8100, 0.6561, 1.0000])\n",
      "p tensor([0.1319, 0.1041, 0.1184, 0.1202, 0.1354, 0.1467, 0.1199, 0.1235],\n",
      "       grad_fn=<SelectBackward>)\n",
      "Loss: -2.731\n",
      "v_list argmax tensor([0, 0, 0, 0, 0, 0, 0, 0, 0, 0, 0, 0, 0, 0, 0, 0, 0, 0, 0, 0, 0, 0, 0, 0,\n",
      "        0, 0, 0, 0, 0, 0, 0, 0, 0, 0, 0, 0, 0, 0, 0, 0, 0, 0, 0, 0, 0, 0, 0, 0,\n",
      "        0])\n",
      "p argrmax tensor([0, 4, 0, 0, 0, 0, 5, 4, 0, 4, 2, 0, 0, 5, 0, 0, 0, 0, 5, 2, 0, 0, 0, 5,\n",
      "        0, 0, 4, 2, 5, 2, 0, 4, 0, 4, 5, 2, 0, 0, 4, 0, 2, 2, 0, 0, 5, 0, 0, 0,\n",
      "        5])\n",
      "v_list tensor([0.8100, 0.8100, 0.8100, 0.8100, 0.6561, 0.5314, 0.4305, 0.4305])\n",
      "p tensor([0.1546, 0.1351, 0.1346, 0.1476, 0.1148, 0.1192, 0.1007, 0.0933],\n",
      "       grad_fn=<SelectBackward>)\n",
      "Loss: -2.734\n",
      "v_list argmax tensor([0, 0, 0, 0, 0, 0, 0, 0, 0, 0, 0, 0, 0, 0, 0, 0, 0, 0, 0, 0, 0, 0, 0, 0,\n",
      "        0, 0, 0, 0, 0, 0, 0, 0, 0, 0, 0, 0, 0, 0, 0, 0, 0, 0, 0, 0, 0, 0, 0, 0,\n",
      "        0])\n",
      "p argrmax tensor([5, 0, 0, 0, 4, 5, 0, 4, 4, 0, 0, 2, 0, 0, 0, 0, 0, 5, 0, 0, 0, 2, 5, 0,\n",
      "        5, 0, 5, 4, 2, 0, 4, 5, 2, 5, 0, 0, 0, 0, 2, 5, 0, 0, 0, 0, 0, 0, 0, 5,\n",
      "        0])\n",
      "v_list tensor([0.9000, 0.4783, 0.5905, 0.4783, 0.7290, 0.9000, 0.9000, 0.7290])\n",
      "p tensor([0.1342, 0.1042, 0.1242, 0.1140, 0.1350, 0.1427, 0.1276, 0.1180],\n",
      "       grad_fn=<SelectBackward>)\n",
      "Loss: -2.741\n",
      "v_list argmax tensor([0, 0, 0, 0, 0, 0, 0, 0, 0, 0, 0, 0, 0, 0, 0, 0, 0, 0, 0, 0, 0, 0, 0, 0,\n",
      "        0, 0, 0, 0, 0, 0, 0, 0, 0, 0, 0, 0, 0, 0, 0, 0, 0, 0, 0, 0, 0, 0, 0, 0,\n",
      "        0])\n",
      "p argrmax tensor([0, 5, 0, 4, 5, 5, 5, 0, 2, 4, 4, 5, 0, 2, 5, 2, 0, 4, 2, 4, 0, 0, 5, 0,\n",
      "        0, 5, 0, 5, 0, 4, 5, 5, 0, 0, 0, 0, 0, 0, 0, 0, 0, 0, 5, 0, 0, 5, 0, 0,\n",
      "        0])\n",
      "v_list tensor([0.8100, 0.8100, 0.8100, 0.6561, 0.8100, 0.6561, 0.5314, 0.5314])\n",
      "p tensor([0.1416, 0.1280, 0.1388, 0.1182, 0.1333, 0.1202, 0.1113, 0.1086],\n",
      "       grad_fn=<SelectBackward>)\n",
      "Loss: -2.746\n",
      "v_list argmax tensor([0, 0, 0, 0, 0, 0, 0, 0, 0, 0, 0, 0, 0, 0, 0, 0, 0, 0, 0, 0, 0, 0, 0, 0,\n",
      "        0, 0, 0, 0, 0, 0, 0, 0, 0, 0, 0, 0, 0, 0, 0, 0, 0, 0, 0, 0, 0, 0, 0, 0,\n",
      "        0])\n",
      "p argrmax tensor([5, 0, 0, 0, 0, 5, 2, 0, 0, 0, 0, 0, 2, 4, 2, 4, 0, 0, 5, 0, 4, 0, 5, 0,\n",
      "        0, 0, 0, 5, 0, 4, 2, 5, 0, 0, 5, 2, 0, 0, 0, 0, 0, 0, 5, 5, 0, 5, 4, 0,\n",
      "        5])\n",
      "v_list tensor([0.8100, 0.5314, 0.6561, 0.5314, 0.8100, 0.8100, 0.8100, 0.6561])\n",
      "p tensor([0.1348, 0.1067, 0.1286, 0.1194, 0.1332, 0.1398, 0.1249, 0.1126],\n",
      "       grad_fn=<SelectBackward>)\n"
     ]
    },
    {
     "name": "stdout",
     "output_type": "stream",
     "text": [
      "Loss: -2.745\n",
      "v_list argmax tensor([0, 0, 0, 0, 0, 0, 0, 0, 0, 0, 0, 0, 0, 0, 0, 0, 0, 0, 0, 0, 0, 0, 0, 0,\n",
      "        0, 0, 0, 0, 0, 0, 0, 0, 0, 0, 0, 0, 0, 0, 0, 0, 0, 0, 0, 0, 0, 0, 0, 0,\n",
      "        0])\n",
      "p argrmax tensor([0, 5, 5, 5, 2, 5, 5, 0, 2, 5, 0, 5, 0, 5, 0, 0, 0, 0, 4, 0, 0, 0, 0, 5,\n",
      "        2, 0, 4, 5, 0, 0, 4, 0, 2, 2, 5, 4, 0, 0, 0, 0, 4, 0, 0, 4, 0, 5, 0, 0,\n",
      "        0])\n",
      "v_list tensor([0.8100, 0.8100, 0.8100, 0.6561, 0.8100, 0.6561, 0.5314, 0.5314])\n",
      "p tensor([0.1489, 0.1225, 0.1316, 0.1271, 0.1269, 0.1269, 0.1043, 0.1118],\n",
      "       grad_fn=<SelectBackward>)\n",
      "Loss: -2.745\n",
      "v_list argmax tensor([0, 0, 0, 0, 0, 0, 0, 0, 0, 0, 0, 0, 0, 0, 0, 0, 0, 0, 0, 0, 0, 0, 0, 0,\n",
      "        0, 0, 0, 0, 0, 0, 0, 0, 0, 0, 0, 0, 0, 0, 0, 0, 0, 0, 0, 0, 0, 0, 0, 0,\n",
      "        0])\n",
      "p argrmax tensor([5, 0, 0, 5, 4, 2, 0, 5, 4, 5, 4, 0, 0, 0, 0, 0, 0, 0, 0, 0, 0, 5, 0, 0,\n",
      "        2, 0, 0, 5, 0, 0, 5, 5, 4, 0, 0, 2, 0, 0, 0, 0, 4, 0, 5, 4, 2, 0, 2, 4,\n",
      "        5])\n",
      "v_list tensor([0.8100, 0.4305, 0.5314, 0.4305, 0.6561, 0.8100, 0.8100, 0.8100])\n",
      "p tensor([0.1343, 0.1059, 0.1251, 0.1106, 0.1370, 0.1400, 0.1231, 0.1240],\n",
      "       grad_fn=<SelectBackward>)\n",
      "Loss: -2.747\n",
      "v_list argmax tensor([0, 0, 0, 0, 0, 0, 0, 0, 0, 0, 0, 0, 0, 0, 0, 0, 0, 0, 0, 0, 0, 0, 0, 0,\n",
      "        0, 0, 0, 0, 0, 0, 0, 0, 0, 0, 0, 0, 0, 0, 0, 0, 0, 0, 0, 0, 0, 0, 0, 0,\n",
      "        0])\n",
      "p argrmax tensor([5, 0, 0, 4, 5, 0, 2, 0, 0, 2, 0, 0, 0, 0, 0, 5, 0, 4, 0, 4, 0, 4, 0, 0,\n",
      "        5, 5, 5, 0, 5, 5, 5, 2, 0, 2, 0, 0, 4, 0, 0, 0, 0, 4, 0, 0, 5, 5, 0, 0,\n",
      "        2])\n",
      "v_list tensor([0.9000, 0.4783, 0.5905, 0.4783, 0.7290, 0.9000, 0.9000, 0.7290])\n",
      "p tensor([0.1344, 0.1022, 0.1224, 0.1135, 0.1339, 0.1446, 0.1299, 0.1191],\n",
      "       grad_fn=<SelectBackward>)\n",
      "Loss: -2.746\n",
      "v_list argmax tensor([0, 0, 0, 0, 0, 0, 0, 0, 0, 0, 0, 0, 0, 0, 0, 0, 0, 0, 0, 0, 0, 0, 0, 0,\n",
      "        0, 0, 0, 0, 0, 0, 0, 0, 0, 0, 0, 0, 0, 0, 0, 0, 0, 0, 0, 0, 0, 0, 0, 0,\n",
      "        0])\n",
      "p argrmax tensor([0, 0, 4, 4, 2, 0, 0, 0, 4, 0, 0, 0, 5, 0, 2, 5, 5, 0, 0, 5, 4, 5, 0, 0,\n",
      "        5, 4, 0, 0, 0, 0, 0, 4, 2, 2, 5, 0, 5, 5, 4, 5, 0, 5, 5, 0, 0, 0, 0, 0,\n",
      "        5])\n",
      "v_list tensor([0.8100, 0.6561, 0.8100, 0.6561, 0.8100, 0.8100, 0.6561, 0.6561])\n",
      "p tensor([0.1369, 0.1113, 0.1219, 0.1109, 0.1334, 0.1358, 0.1241, 0.1258],\n",
      "       grad_fn=<SelectBackward>)\n",
      "Loss: -2.746\n",
      "v_list argmax tensor([0, 0, 0, 0, 0, 0, 0, 0, 0, 0, 0, 0, 0, 0, 0, 0, 0, 0, 0, 0, 0, 0, 0, 0,\n",
      "        0, 0, 0, 0, 0, 0, 0, 0, 0, 0, 0, 0, 0, 0, 0, 0, 0, 0, 0, 0, 0, 0, 0, 0,\n",
      "        0])\n",
      "p argrmax tensor([5, 0, 0, 4, 5, 0, 0, 0, 0, 2, 4, 2, 0, 0, 5, 4, 4, 5, 5, 2, 2, 0, 5, 0,\n",
      "        0, 2, 0, 3, 0, 0, 5, 5, 0, 5, 4, 0, 0, 0, 0, 5, 0, 0, 4, 4, 0, 0, 5, 5,\n",
      "        2])\n",
      "v_list tensor([0.9000, 0.5905, 0.7290, 0.5905, 0.9000, 0.9000, 0.7290, 0.7290])\n",
      "p tensor([0.1376, 0.1076, 0.1207, 0.1115, 0.1356, 0.1402, 0.1231, 0.1236],\n",
      "       grad_fn=<SelectBackward>)\n",
      "Training process has finished.\n"
     ]
    }
   ],
   "source": [
    "# Run the training loop\n",
    "for epoch in range(0, 10000): # 5 epochs at maximum\n",
    "    # Print epoch\n",
    "#     print(f'Starting epoch {epoch+1}')\n",
    "\n",
    "    # Set current loss value\n",
    "    current_loss = 0.0\n",
    "\n",
    "    # Iterate over the DataLoader for training data\n",
    "    for i, data in enumerate(trainloader, 0):\n",
    "        # Get and prepare inputs\n",
    "        x, x_s_m, x_m_g, v_x, v_xsm, v_xmg  = data\n",
    "        \n",
    "        x, x_s_m, x_m_g, v_x, v_xsm, v_xmg  = x.float(), x_s_m.float(), x_m_g.float(), v_x.float(), v_xsm.float(), v_xmg.float()\n",
    "        inputs = x, x_s_m, x_m_g\n",
    "        v_x, v_xsm, v_xmg = v_x.unsqueeze(-1), v_xsm.unsqueeze(-1), v_xmg.unsqueeze(-1)\n",
    "\n",
    "        # Zero the gradients\n",
    "        optimizer.zero_grad()\n",
    "\n",
    "        # Perform forward pass\n",
    "        p, outputs, y_x, y_xsm, y_xmg = mlp(inputs)\n",
    "\n",
    "        # Compute loss\n",
    "        loss_v_x = torch.abs(y_x-v_x)\n",
    "        loss_v_xsm = torch.abs(y_xsm-v_xsm)\n",
    "        loss_v_xmg = torch.abs(y_xmg-v_xmg)\n",
    "        loss_subgoal = loss_v_xsm + loss_v_xmg\n",
    "        loss_v = (p[:, :1].detach()*loss_v_x).sum(dim=1).mean() + (p[:, 1:].unsqueeze(-1).detach()*loss_subgoal).sum(1).mean() \n",
    "        \n",
    "        entropy = (p*torch.log(p)).sum(1).mean()\n",
    "        v_list = torch.cat([v_x.unsqueeze(-1), v_xsm*v_xmg], 1)\n",
    "        p_loss = -(p.unsqueeze(-1)*v_list).sum(1).mean() + entropy\n",
    "        \n",
    "        loss = p_loss + loss_v\n",
    "\n",
    "        # Perform backward pass\n",
    "        loss.backward()\n",
    "\n",
    "        # Perform optimization\n",
    "        optimizer.step()\n",
    "\n",
    "        # Print statistics\n",
    "        current_loss += loss.item()\n",
    "    \n",
    "    if epoch % 500 == 0:\n",
    "        print('Loss: %.3f' % (current_loss ))\n",
    "        print('v_list argmax', v_list[:, :, 0].argmax(1))\n",
    "        print('p argrmax', p.argmax(-1))\n",
    "        print('v_list', v_list[0, :, 0])\n",
    "        print('p', p[0])\n",
    "#         print('loss_v_x', loss_v_x[0])\n",
    "#         print('loss_subgoal', loss_subgoal[0])\n",
    "#         print('loss_v_xsm', loss_v_xsm[0])\n",
    "#         print('loss_v_xmg', loss_v_xmg[0])\n",
    "#         print('loss_vsg_vsmg', loss_vsg_vsmg[0])\n",
    "#         print('x_s_m', x_s_m[0])\n",
    "#         print('x_m_g', x_m_g[0])\n",
    "#         print('idx', idx)\n",
    "#         print('m', mlp.states_original[idx-1:idx])\n",
    "#         seq_to_col_row()\n",
    "#         abs_argmax = torch.abs(outputs.detach()-v_x).argmax(-1)\n",
    "#         print('argmax abs', abs_argmax)\n",
    "#         abs_argmax = torch.abs(outputs[:, 1:].detach()-v_x).argmax(-1)\n",
    "#         print('true_dif[:, abs_argmax]', true_dif[torch.arange(len(argmax)), argmax])\n",
    "        \n",
    "    current_loss = 0.0\n",
    "\n",
    "# Process is complete.\n",
    "print('Training process has finished.')"
   ]
  },
  {
   "cell_type": "code",
   "execution_count": 256,
   "metadata": {
    "scrolled": false
   },
   "outputs": [
    {
     "name": "stdout",
     "output_type": "stream",
     "text": [
      "idx tensor(0)\n",
      "m []\n",
      "idx tensor(0)\n",
      "m []\n",
      "idx tensor(0)\n",
      "m []\n",
      "idx tensor(0)\n",
      "m []\n",
      "idx tensor(0)\n",
      "m []\n",
      "idx tensor(0)\n",
      "m []\n",
      "idx tensor(0)\n",
      "m []\n",
      "idx tensor(0)\n",
      "m []\n",
      "idx tensor(0)\n",
      "m []\n",
      "idx tensor(0)\n",
      "m []\n",
      "idx tensor(0)\n",
      "m []\n",
      "idx tensor(0)\n",
      "m []\n",
      "idx tensor(0)\n",
      "m []\n",
      "idx tensor(0)\n",
      "m []\n",
      "idx tensor(0)\n",
      "m []\n",
      "idx tensor(0)\n",
      "m []\n",
      "idx tensor(0)\n",
      "m []\n",
      "idx tensor(0)\n",
      "m []\n",
      "idx tensor(0)\n",
      "m []\n",
      "idx tensor(0)\n",
      "m []\n",
      "idx tensor(0)\n",
      "m []\n",
      "idx tensor(0)\n",
      "m []\n",
      "idx tensor(0)\n",
      "m []\n",
      "idx tensor(0)\n",
      "m []\n",
      "idx tensor(0)\n",
      "m []\n",
      "idx tensor(0)\n",
      "m []\n",
      "idx tensor(0)\n",
      "m []\n",
      "idx tensor(0)\n",
      "m []\n",
      "idx tensor(0)\n",
      "m []\n",
      "idx tensor(0)\n",
      "m []\n",
      "idx tensor(0)\n",
      "m []\n",
      "idx tensor(0)\n",
      "m []\n",
      "idx tensor(0)\n",
      "m []\n",
      "idx tensor(0)\n",
      "m []\n",
      "idx tensor(0)\n",
      "m []\n",
      "idx tensor(0)\n",
      "m []\n",
      "idx tensor(0)\n",
      "m []\n",
      "idx tensor(0)\n",
      "m []\n",
      "idx tensor(0)\n",
      "m []\n",
      "idx tensor(0)\n",
      "m []\n",
      "idx tensor(0)\n",
      "m []\n",
      "idx tensor(0)\n",
      "m []\n",
      "idx tensor(0)\n",
      "m []\n",
      "idx tensor(0)\n",
      "m []\n",
      "idx tensor(0)\n",
      "m []\n",
      "idx tensor(0)\n",
      "m []\n",
      "idx tensor(0)\n",
      "m []\n",
      "idx tensor(0)\n",
      "m []\n",
      "idx tensor(0)\n",
      "m []\n",
      "idx tensor(0)\n",
      "m []\n",
      "idx tensor(0)\n",
      "m []\n",
      "idx tensor(0)\n",
      "m []\n",
      "idx tensor(0)\n",
      "m []\n",
      "idx tensor(0)\n",
      "m []\n",
      "idx tensor(0)\n",
      "m []\n",
      "idx tensor(0)\n",
      "m []\n",
      "idx tensor(0)\n",
      "m []\n",
      "idx tensor(0)\n",
      "m []\n",
      "idx tensor(0)\n",
      "m []\n",
      "idx tensor(0)\n",
      "m []\n",
      "idx tensor(0)\n",
      "m []\n",
      "idx tensor(0)\n",
      "m []\n",
      "idx tensor(0)\n",
      "m []\n"
     ]
    }
   ],
   "source": [
    "predict = []\n",
    "for x in X:\n",
    "    s = (x[:2] - mean) / std\n",
    "    g = (x[2:] - mean) / std\n",
    "    data = mlp.prepare_data(s, g)\n",
    "    p, v, y_x, y_xsm, y_xmg = mlp(data)\n",
    "#     print('p', p)\n",
    "    idx = p.argmax()\n",
    "    print('idx', idx)\n",
    "    print('m', mlp.states_original[idx-1:idx])\n",
    "#     print(mlp.get_propa(data))\n",
    "    predict.append(v.detach().numpy()[:, 0])\n",
    "\n",
    "predict = np.array(predict)[:, 0]\n",
    "    \n",
    "    "
   ]
  },
  {
   "cell_type": "code",
   "execution_count": 266,
   "metadata": {},
   "outputs": [
    {
     "name": "stdout",
     "output_type": "stream",
     "text": [
      "idx tensor(0)\n",
      "idx tensor(0)\n",
      "idx tensor(0)\n",
      "idx tensor(0)\n",
      "idx tensor(0)\n",
      "idx tensor(0)\n",
      "(13, 2) (6, 2) 6\n"
     ]
    }
   ],
   "source": [
    "# start_state_sub = np.array([[0,0], [0,2], [2,2], [2, 0], [0,0], [0,2], [2,2], [2, 0], [0,0]])\n",
    "# goal_states_sub = np.array([[2,2], [2, 0], [0,0], [0,2], [0,2], [0,0], [2, 0], [2,2], [0,1]])\n",
    "# subgoal_states_sub = []\n",
    "start_state_sub = goal_states[8:9]\n",
    "goal_states_sub = goal_states[:6]\n",
    "start_state_sub = np.tile(start_state_sub, (len(goal_states_plot), 1))\n",
    "subgoal_states_sub = []\n",
    "\n",
    "for s, g in zip(start_state_sub, goal_states_sub):\n",
    "    s = (s - mean) / std\n",
    "    g = (g - mean) / std\n",
    "    data = mlp.prepare_data(s, g)\n",
    "    p, *_ = mlp(data)\n",
    "    idx = p.argmax()\n",
    "    print('idx', idx)\n",
    "    if idx == 0:\n",
    "        subgoal_states_sub.append([None])\n",
    "    else:\n",
    "        subgoal_states_sub.append(mlp.states_original[idx-1:idx])\n",
    "        \n",
    "print(start_state_sub.shape, goal_states_sub.shape, len(subgoal_states_sub))\n"
   ]
  },
  {
   "cell_type": "code",
   "execution_count": 267,
   "metadata": {},
   "outputs": [
    {
     "data": {
      "text/plain": [
       "array([[4, 1],\n",
       "       [4, 1],\n",
       "       [4, 1],\n",
       "       [4, 1],\n",
       "       [4, 1],\n",
       "       [4, 1],\n",
       "       [4, 1],\n",
       "       [4, 1],\n",
       "       [4, 1],\n",
       "       [4, 1],\n",
       "       [4, 1],\n",
       "       [4, 1],\n",
       "       [4, 1]])"
      ]
     },
     "execution_count": 267,
     "metadata": {},
     "output_type": "execute_result"
    }
   ],
   "source": [
    "start_state_sub"
   ]
  },
  {
   "cell_type": "code",
   "execution_count": 268,
   "metadata": {},
   "outputs": [
    {
     "data": {
      "text/plain": [
       "array([[0, 0],\n",
       "       [1, 0],\n",
       "       [2, 0],\n",
       "       [3, 0],\n",
       "       [4, 0],\n",
       "       [0, 1]])"
      ]
     },
     "execution_count": 268,
     "metadata": {},
     "output_type": "execute_result"
    }
   ],
   "source": [
    "goal_states_sub"
   ]
  },
  {
   "cell_type": "code",
   "execution_count": 269,
   "metadata": {},
   "outputs": [
    {
     "data": {
      "text/plain": [
       "[[None], [None], [None], [None], [None], [None]]"
      ]
     },
     "execution_count": 269,
     "metadata": {},
     "output_type": "execute_result"
    }
   ],
   "source": [
    "subgoal_states_sub"
   ]
  },
  {
   "cell_type": "code",
   "execution_count": 270,
   "metadata": {},
   "outputs": [
    {
     "data": {
      "text/plain": [
       "[[None, None, None, None, None, None]]"
      ]
     },
     "execution_count": 270,
     "metadata": {},
     "output_type": "execute_result"
    }
   ],
   "source": [
    "[[None]*len(goal_states_sub)]"
   ]
  },
  {
   "cell_type": "code",
   "execution_count": 271,
   "metadata": {},
   "outputs": [],
   "source": [
    "import matplotlib.pyplot as plt\n",
    "plt.rcParams[\"figure.figsize\"] = (10,20)"
   ]
  },
  {
   "cell_type": "code",
   "execution_count": 272,
   "metadata": {},
   "outputs": [],
   "source": [
    "def find_plot_pi_hat(y_hat, model, index):\n",
    "    pi_hat = np.ones((model.num_states, model.num_states, 1))\n",
    "    val_hat_ = np.zeros((model.num_states, model.num_states, 1))\n",
    "    val_hat_[index[:, 0], index[:, 1], 0] = y_hat\n",
    "\n",
    "    # compute the policy\n",
    "    for state in range(model.num_states):\n",
    "        for goal in model.goal_states_seq:\n",
    "            P = copy.deepcopy(model.P)\n",
    "            P[goal, :, :] = 0\n",
    "            P[goal, model.num_states - 1, :] = 1\n",
    "            pi_hat[state, goal] = np.argmax(np.sum(val_hat_[:, goal, :] * P[state,:,:],0))\n",
    "    \n",
    "    return pi_hat"
   ]
  },
  {
   "cell_type": "code",
   "execution_count": 273,
   "metadata": {},
   "outputs": [
    {
     "name": "stderr",
     "output_type": "stream",
     "text": [
      "No handles with labels found to put in legend.\n"
     ]
    },
    {
     "name": "stdout",
     "output_type": "stream",
     "text": [
      "goal_reached 5\n",
      "goal_reached 4\n",
      "goal_reached 3\n",
      "goal_reached 2\n",
      "goal_reached 1\n"
     ]
    },
    {
     "data": {
      "image/png": "[encoded data removed]",
      "text/plain": [
       "<Figure size 720x1440 with 13 Axes>"
      ]
     },
     "metadata": {
      "needs_background": "light"
     },
     "output_type": "display_data"
    }
   ],
   "source": [
    "pi_hat = find_plot_pi_hat(predict, model, index)\n",
    "# pi_hat\n",
    "plot_gridworld_subtasks(model, value_function=value_function, policy=policy, path=path,\n",
    "                       start_states=start_state_sub, goal_states=goal_states_sub, \n",
    "                       subgoal_states=subgoal_states_sub,\n",
    "                       )"
   ]
  },
  {
   "cell_type": "code",
   "execution_count": 274,
   "metadata": {},
   "outputs": [
    {
     "name": "stderr",
     "output_type": "stream",
     "text": [
      "No handles with labels found to put in legend.\n"
     ]
    },
    {
     "name": "stdout",
     "output_type": "stream",
     "text": [
      "goal_reached 5\n",
      "goal_reached 4\n",
      "goal_reached 3\n",
      "goal_reached 2\n",
      "goal_reached 1\n"
     ]
    },
    {
     "data": {
      "image/png": "[encoded data removed]",
      "text/plain": [
       "<Figure size 720x1440 with 13 Axes>"
      ]
     },
     "metadata": {
      "needs_background": "light"
     },
     "output_type": "display_data"
    }
   ],
   "source": [
    "plot_gridworld_subtasks(model, value_function=value_function, policy=policy, path=path,\n",
    "                       start_states=start_state_sub, goal_states=goal_states_sub, \n",
    "                        subgoal_states=[[None]]*len(goal_states_sub),)"
   ]
  },
  {
   "cell_type": "code",
   "execution_count": null,
   "metadata": {},
   "outputs": [],
   "source": []
  }
 ],
 "metadata": {
  "kernelspec": {
   "display_name": "Python 3",
   "language": "python",
   "name": "python3"
  },
  "language_info": {
   "codemirror_mode": {
    "name": "ipython",
    "version": 3
   },
   "file_extension": ".py",
   "mimetype": "text/x-python",
   "name": "python",
   "nbconvert_exporter": "python",
   "pygments_lexer": "ipython3",
   "version": "3.8.8"
  }
 },
 "nbformat": 4,
 "nbformat_minor": 1
}
