{
 "cells": [
  {
   "cell_type": "code",
   "execution_count": 1,
   "metadata": {},
   "outputs": [
    {
     "name": "stderr",
     "output_type": "stream",
     "text": [
      "/Users/ivananokhin/opt/anaconda3/lib/python3.8/site-packages/numpy/core/fromnumeric.py:87: VisibleDeprecationWarning: Creating an ndarray from ragged nested sequences (which is a list-or-tuple of lists-or-tuples-or ndarrays with different lengths or shapes) is deprecated. If you meant to do this, you must specify 'dtype=object' when creating the ndarray.\n",
      "  return ufunc.reduce(obj, axis, dtype, out, **passkwargs)\n",
      "../utils/helper_functions_multitask.py:10: VisibleDeprecationWarning: Creating an ndarray from ragged nested sequences (which is a list-or-tuple of lists-or-tuples-or ndarrays with different lengths or shapes) is deprecated. If you meant to do this, you must specify 'dtype=object' when creating the ndarray.\n",
      "  return np.array([[r, c]])\n",
      "../utils/helper_functions.py:10: VisibleDeprecationWarning: Creating an ndarray from ragged nested sequences (which is a list-or-tuple of lists-or-tuples-or ndarrays with different lengths or shapes) is deprecated. If you meant to do this, you must specify 'dtype=object' when creating the ndarray.\n",
      "  return np.array([[r, c]])\n"
     ]
    },
    {
     "name": "stdout",
     "output_type": "stream",
     "text": [
      "Value iteration converged after 5 iterations.\n",
      "goal_reached 1\n",
      "goal_reached 1\n",
      "goal_reached 2\n",
      "goal_reached 2\n",
      "goal_reached 3\n",
      "goal_reached 4\n",
      "goal_reached 4\n",
      "goal_reached 2\n",
      "goal_reached 1\n",
      "goal_reached 1\n",
      "goal_reached 2\n",
      "goal_reached 3\n",
      "goal_reached 4\n",
      "goal_reached 4\n"
     ]
    },
    {
     "name": "stderr",
     "output_type": "stream",
     "text": [
      "/Users/ivananokhin/opt/anaconda3/lib/python3.8/site-packages/matplotlib/quiver.py:668: RuntimeWarning: Mean of empty slice.\n",
      "  amean = a[~self.Umask].mean()\n",
      "/Users/ivananokhin/opt/anaconda3/lib/python3.8/site-packages/numpy/core/_methods.py:188: RuntimeWarning: invalid value encountered in double_scalars\n",
      "  ret = ret.dtype.type(ret / rcount)\n"
     ]
    },
    {
     "data": {
      "image/png": "[encoded data removed]",
      "text/plain": [
       "<Figure size 432x288 with 14 Axes>"
      ]
     },
     "metadata": {
      "needs_background": "light"
     },
     "output_type": "display_data"
    }
   ],
   "source": [
    "import sys\n",
    "sys.path.append(\"..\")\n",
    "import numpy as np\n",
    "from env.grid_world_multitask import GridWorld\n",
    "from algorithms.dynamic_programming_multitask import value_iteration\n",
    "from utils.plots_multitask import plot_gridworld, plot_gridworld_subtasks\n",
    "import copy\n",
    "\n",
    "###########################################################\n",
    "#          Run value iteration on a grid world            #\n",
    "###########################################################\n",
    "\n",
    "# specify world parameters\n",
    "num_cols = 3\n",
    "num_rows = 3\n",
    "obstructions = np.array([[1,0],[1,2]])\n",
    "start_state = np.array([[0,0], [0,2]])\n",
    "start_states_plot = start_state\n",
    "# start_states_plot = np.array([[0,0], [0,2]])\n",
    "# goal_states_plot = np.array([[2,2], [2, 2]])\n",
    "# start_states_plot = np.array([[0,0]], )\n",
    "# goal_states_plot = np.array([[2,2]])\n",
    "# goal_states = np.array([[2, 0], [2, 1]])\n",
    "goal_states = np.array([[0,0], [0,1], [0,2], [1, 1], [2, 1], [2,2], [2, 0]])\n",
    "goal_states_plot = goal_states\n",
    "\n",
    "# create model\n",
    "gw = GridWorld(num_rows=num_rows,\n",
    "               num_cols=num_cols,\n",
    "               start_state=start_state,\n",
    "               goal_states=goal_states)\n",
    "gw.add_obstructions(\n",
    "                    obstructed_states=obstructions,\n",
    "                    # bad_states=bad_states,\n",
    "                    # restart_states=restart_states\n",
    "                    )\n",
    "gw.add_rewards(\n",
    "               step_reward=0,\n",
    "               goal_reward=1,\n",
    "               bad_state_reward=0,\n",
    "               restart_state_reward=0)\n",
    "gw.add_transition_probability(p_good_transition=1.,\n",
    "                              bias=0.)\n",
    "gw.add_discount(discount=0.9)\n",
    "model = gw.create_gridworld()\n",
    "\n",
    "# print('model created')\n",
    "\n",
    "# solve with value iteration\n",
    "value_function, policy = value_iteration(model, maxiter=100)\n",
    "\n",
    "# print('policy created')\n",
    "\n",
    "# print('policy', policy.shape)\n",
    "\n",
    "# plot the results\n",
    "path = \"../doc/imgs/value_iteration.png\"\n",
    "plot_gridworld(model, value_function=value_function, policy=policy,\n",
    "               # title=\"Value iteration\",\n",
    "               path=path,\n",
    "               start_states=start_states_plot, goal_states=goal_states_plot)\n",
    "\n",
    "# print('plot saved')"
   ]
  },
  {
   "cell_type": "code",
   "execution_count": 2,
   "metadata": {},
   "outputs": [
    {
     "name": "stdout",
     "output_type": "stream",
     "text": [
      "(2, 2) (2, 2) (2, 1, 2)\n",
      "goal_reached 2\n",
      "goal_reached 4\n",
      "goal_reached 2\n",
      "goal_reached 2\n"
     ]
    },
    {
     "data": {
      "image/png": "[encoded data removed]",
      "text/plain": [
       "<Figure size 432x288 with 2 Axes>"
      ]
     },
     "metadata": {
      "needs_background": "light"
     },
     "output_type": "display_data"
    }
   ],
   "source": [
    "start_state_sub = np.array([[0,0], [0,2]])\n",
    "goal_states_sub = np.array([[2,2], [2, 0]])\n",
    "subgoal_states_sub = np.array([[[0,2]], [[1, 1]]])\n",
    "print(start_state_sub.shape, goal_states_sub.shape, subgoal_states_sub.shape)\n",
    "plot_gridworld_subtasks(model, value_function=value_function, policy=policy, path=path,\n",
    "                       start_states=start_state_sub, goal_states=goal_states_sub, subgoal_states=subgoal_states_sub)"
   ]
  },
  {
   "cell_type": "code",
   "execution_count": 3,
   "metadata": {},
   "outputs": [],
   "source": [
    "value_function = value_function[:, :, 0]"
   ]
  },
  {
   "cell_type": "code",
   "execution_count": 4,
   "metadata": {},
   "outputs": [
    {
     "data": {
      "text/plain": [
       "(10, 10)"
      ]
     },
     "execution_count": 4,
     "metadata": {},
     "output_type": "execute_result"
    }
   ],
   "source": [
    "value_function.shape"
   ]
  },
  {
   "cell_type": "code",
   "execution_count": 5,
   "metadata": {},
   "outputs": [],
   "source": [
    "from utils.helper_functions import row_col_to_seq, seq_to_col_row"
   ]
  },
  {
   "cell_type": "code",
   "execution_count": 6,
   "metadata": {},
   "outputs": [
    {
     "data": {
      "text/plain": [
       "((63, 4), (63,))"
      ]
     },
     "execution_count": 6,
     "metadata": {},
     "output_type": "execute_result"
    }
   ],
   "source": [
    "X = []\n",
    "index = []\n",
    "for state_seq in range(model.num_states-1):\n",
    "    for goal in goal_states:\n",
    "        goal = goal[None, :]\n",
    "        state = seq_to_col_row(state_seq, model.num_cols)\n",
    "        goal_seq = row_col_to_seq(goal, model.num_cols)\n",
    "        x = np.hstack([state, goal])\n",
    "        X.append(x)\n",
    "        index.append([state_seq, goal_seq[0]])\n",
    "X = np.array(X)[:, 0]\n",
    "index = np.array(index)\n",
    "\n",
    "y = value_function[index[:, 0], index[:, 1]]\n",
    "\n",
    "X.shape, y.shape"
   ]
  },
  {
   "cell_type": "code",
   "execution_count": 7,
   "metadata": {},
   "outputs": [],
   "source": [
    "from sklearn.linear_model import LinearRegression"
   ]
  },
  {
   "cell_type": "code",
   "execution_count": 8,
   "metadata": {},
   "outputs": [],
   "source": [
    "reg = LinearRegression().fit(X, y)"
   ]
  },
  {
   "cell_type": "code",
   "execution_count": 9,
   "metadata": {},
   "outputs": [],
   "source": [
    "y_hat = reg.predict(X)"
   ]
  },
  {
   "cell_type": "code",
   "execution_count": 10,
   "metadata": {},
   "outputs": [
    {
     "data": {
      "text/plain": [
       "0.1257569123708743"
      ]
     },
     "execution_count": 10,
     "metadata": {},
     "output_type": "execute_result"
    }
   ],
   "source": [
    "((y_hat-y)**2).mean()"
   ]
  },
  {
   "cell_type": "code",
   "execution_count": 11,
   "metadata": {},
   "outputs": [],
   "source": [
    "def find_plot_pi_hat(y_hat, model, index):\n",
    "    pi_hat = np.ones((model.num_states, model.num_states, 1))\n",
    "    val_hat_ = np.zeros((model.num_states, model.num_states, 1))\n",
    "    val_hat_[index[:, 0], index[:, 1], 0] = y_hat\n",
    "\n",
    "    # compute the policy\n",
    "    for state in range(model.num_states):\n",
    "        for goal in model.goal_states_seq:\n",
    "            P = copy.deepcopy(model.P)\n",
    "            P[goal, :, :] = 0\n",
    "            P[goal, model.num_states - 1, :] = 1\n",
    "            pi_hat[state, goal] = np.argmax(np.sum(val_hat_[:, goal, :] * P[state,:,:],0))\n",
    "\n",
    "    # plot the results\n",
    "    path = \"../doc/imgs/value_iteration.png\"\n",
    "    plot_gridworld(model, value_function=val_hat_, policy=pi_hat,\n",
    "                   # title=\"Value iteration\",\n",
    "                   path=path,\n",
    "                   start_states=start_states_plot, goal_states=goal_states_plot)"
   ]
  },
  {
   "cell_type": "code",
   "execution_count": 12,
   "metadata": {},
   "outputs": [
    {
     "name": "stderr",
     "output_type": "stream",
     "text": [
      "../utils/helper_functions_multitask.py:10: VisibleDeprecationWarning: Creating an ndarray from ragged nested sequences (which is a list-or-tuple of lists-or-tuples-or ndarrays with different lengths or shapes) is deprecated. If you meant to do this, you must specify 'dtype=object' when creating the ndarray.\n",
      "  return np.array([[r, c]])\n",
      "../utils/helper_functions.py:10: VisibleDeprecationWarning: Creating an ndarray from ragged nested sequences (which is a list-or-tuple of lists-or-tuples-or ndarrays with different lengths or shapes) is deprecated. If you meant to do this, you must specify 'dtype=object' when creating the ndarray.\n",
      "  return np.array([[r, c]])\n",
      "/Users/ivananokhin/opt/anaconda3/lib/python3.8/site-packages/matplotlib/quiver.py:668: RuntimeWarning: Mean of empty slice.\n",
      "  amean = a[~self.Umask].mean()\n",
      "/Users/ivananokhin/opt/anaconda3/lib/python3.8/site-packages/numpy/core/_methods.py:188: RuntimeWarning: invalid value encountered in double_scalars\n",
      "  ret = ret.dtype.type(ret / rcount)\n"
     ]
    },
    {
     "name": "stdout",
     "output_type": "stream",
     "text": [
      "goal_reached 1\n",
      "goal_reached 1\n"
     ]
    },
    {
     "data": {
      "image/png": "[encoded data removed]",
      "text/plain": [
       "<Figure size 432x288 with 14 Axes>"
      ]
     },
     "metadata": {
      "needs_background": "light"
     },
     "output_type": "display_data"
    }
   ],
   "source": [
    "find_plot_pi_hat(y_hat, model, index)"
   ]
  },
  {
   "cell_type": "markdown",
   "metadata": {},
   "source": [
    "## Simple One-hidden-layer MLP"
   ]
  },
  {
   "cell_type": "code",
   "execution_count": 13,
   "metadata": {},
   "outputs": [],
   "source": [
    "import torch\n",
    "from torch import nn\n",
    "from torch.utils.data import DataLoader\n",
    "from sklearn.datasets import load_boston\n",
    "from sklearn.preprocessing import StandardScaler"
   ]
  },
  {
   "cell_type": "code",
   "execution_count": 14,
   "metadata": {},
   "outputs": [],
   "source": [
    "class ValueDataset(torch.utils.data.Dataset):\n",
    "    '''\n",
    "    Prepare the Boston dataset for regression\n",
    "    '''\n",
    "\n",
    "    def __init__(self, X, y, scale_data=True):\n",
    "        # Apply scaling if necessary\n",
    "        if scale_data:\n",
    "            X = StandardScaler().fit_transform(X)\n",
    "        self.X = torch.from_numpy(X)\n",
    "        self.y = torch.from_numpy(y)\n",
    "\n",
    "    def __len__(self):\n",
    "        return len(self.X)\n",
    "\n",
    "    def __getitem__(self, i):\n",
    "        return self.X[i], self.y[i]"
   ]
  },
  {
   "cell_type": "code",
   "execution_count": 15,
   "metadata": {},
   "outputs": [],
   "source": [
    "# Prepare dataset\n",
    "dataset = ValueDataset(X, y)\n",
    "trainloader = torch.utils.data.DataLoader(dataset, batch_size=70, shuffle=True, num_workers=0)"
   ]
  },
  {
   "cell_type": "code",
   "execution_count": 16,
   "metadata": {},
   "outputs": [],
   "source": [
    "class MLP(nn.Module):\n",
    "    def __init__(self, middle_dim=16):\n",
    "        super().__init__()\n",
    "        self.layers = nn.Sequential(\n",
    "          nn.Linear(4, middle_dim),\n",
    "              nn.LeakyReLU(),\n",
    "              nn.Linear(middle_dim, 1),\n",
    "#               nn.LeakyReLU(),\n",
    "#               nn.Linear(64, 1)\n",
    "        )\n",
    "\n",
    "\n",
    "    def forward(self, x):\n",
    "        return self.layers(x)"
   ]
  },
  {
   "cell_type": "code",
   "execution_count": 17,
   "metadata": {},
   "outputs": [],
   "source": [
    "# Initialize the MLP\n",
    "mlp = MLP()\n",
    "\n",
    "# Define the loss function and optimizer\n",
    "loss_function = nn.L1Loss()\n",
    "optimizer = torch.optim.SGD(mlp.parameters(), lr=1e-3)"
   ]
  },
  {
   "cell_type": "code",
   "execution_count": 18,
   "metadata": {},
   "outputs": [
    {
     "name": "stdout",
     "output_type": "stream",
     "text": [
      "Loss: 0.416\n",
      "Loss: 0.324\n",
      "Loss: 0.302\n",
      "Loss: 0.284\n",
      "Loss: 0.269\n",
      "Loss: 0.257\n",
      "Loss: 0.246\n",
      "Loss: 0.236\n",
      "Loss: 0.227\n",
      "Loss: 0.220\n",
      "Loss: 0.213\n",
      "Loss: 0.206\n",
      "Loss: 0.201\n",
      "Loss: 0.198\n",
      "Loss: 0.195\n",
      "Loss: 0.192\n",
      "Loss: 0.190\n",
      "Loss: 0.187\n",
      "Loss: 0.184\n",
      "Loss: 0.182\n",
      "Loss: 0.179\n",
      "Loss: 0.176\n",
      "Loss: 0.174\n",
      "Loss: 0.171\n",
      "Loss: 0.169\n",
      "Loss: 0.166\n",
      "Loss: 0.164\n",
      "Loss: 0.161\n",
      "Loss: 0.158\n",
      "Loss: 0.155\n",
      "Loss: 0.153\n",
      "Loss: 0.149\n",
      "Loss: 0.146\n",
      "Loss: 0.143\n",
      "Loss: 0.140\n",
      "Loss: 0.137\n",
      "Loss: 0.134\n",
      "Loss: 0.130\n",
      "Loss: 0.127\n",
      "Loss: 0.123\n",
      "Training process has finished.\n"
     ]
    }
   ],
   "source": [
    "# Run the training loop\n",
    "for epoch in range(0, 20000): # 5 epochs at maximum\n",
    "    # Print epoch\n",
    "#     print(f'Starting epoch {epoch+1}')\n",
    "\n",
    "    # Set current loss value\n",
    "    current_loss = 0.0\n",
    "\n",
    "    # Iterate over the DataLoader for training data\n",
    "    for i, data in enumerate(trainloader, 0):\n",
    "        # Get and prepare inputs\n",
    "        inputs, targets = data\n",
    "        inputs, targets = inputs.float(), targets.float()\n",
    "        targets = targets.reshape((targets.shape[0], 1))\n",
    "\n",
    "        # Zero the gradients\n",
    "        optimizer.zero_grad()\n",
    "\n",
    "        # Perform forward pass\n",
    "        outputs = mlp(inputs)\n",
    "\n",
    "        # Compute loss\n",
    "        loss = loss_function(outputs, targets)\n",
    "\n",
    "        # Perform backward pass\n",
    "        loss.backward()\n",
    "\n",
    "        # Perform optimization\n",
    "        optimizer.step()\n",
    "\n",
    "        # Print statistics\n",
    "        current_loss += loss.item()\n",
    "    \n",
    "    if epoch % 500 == 0:\n",
    "        print('Loss: %.3f' % (current_loss ))\n",
    "    current_loss = 0.0\n",
    "\n",
    "# Process is complete.\n",
    "print('Training process has finished.')"
   ]
  },
  {
   "cell_type": "code",
   "execution_count": 19,
   "metadata": {},
   "outputs": [
    {
     "data": {
      "text/plain": [
       "0.05013233078972547"
      ]
     },
     "execution_count": 19,
     "metadata": {},
     "output_type": "execute_result"
    }
   ],
   "source": [
    "predict = mlp(torch.tensor(StandardScaler().fit_transform(X)).float())[:, 0].detach().numpy()\n",
    "((y - predict)**2).mean()\n"
   ]
  },
  {
   "cell_type": "code",
   "execution_count": 21,
   "metadata": {},
   "outputs": [
    {
     "name": "stdout",
     "output_type": "stream",
     "text": [
      "goal_reached 1\n",
      "goal_reached 1\n",
      "goal_reached 1\n",
      "goal_reached 1\n"
     ]
    },
    {
     "data": {
      "image/png": "[encoded data removed]",
      "text/plain": [
       "<Figure size 432x288 with 14 Axes>"
      ]
     },
     "metadata": {
      "needs_background": "light"
     },
     "output_type": "display_data"
    }
   ],
   "source": [
    "find_plot_pi_hat(predict, model, index)"
   ]
  },
  {
   "cell_type": "code",
   "execution_count": 22,
   "metadata": {},
   "outputs": [
    {
     "name": "stdout",
     "output_type": "stream",
     "text": [
      "goal_reached 1\n",
      "goal_reached 1\n",
      "goal_reached 2\n",
      "goal_reached 2\n",
      "goal_reached 3\n",
      "goal_reached 4\n",
      "goal_reached 4\n",
      "goal_reached 2\n",
      "goal_reached 1\n",
      "goal_reached 1\n",
      "goal_reached 2\n",
      "goal_reached 3\n",
      "goal_reached 4\n",
      "goal_reached 4\n"
     ]
    },
    {
     "data": {
      "image/png": "[encoded data removed]",
      "text/plain": [
       "<Figure size 432x288 with 14 Axes>"
      ]
     },
     "metadata": {
      "needs_background": "light"
     },
     "output_type": "display_data"
    }
   ],
   "source": [
    "find_plot_pi_hat(y, model, index)"
   ]
  },
  {
   "cell_type": "markdown",
   "metadata": {},
   "source": [
    "# Devide and Conquer  2"
   ]
  },
  {
   "cell_type": "markdown",
   "metadata": {},
   "source": [
    "# Devide"
   ]
  },
  {
   "cell_type": "code",
   "execution_count": 60,
   "metadata": {},
   "outputs": [],
   "source": [
    "mean, std = 0., 1.\n",
    "# mean=np.mean(X), std=np.std(X)"
   ]
  },
  {
   "cell_type": "code",
   "execution_count": 61,
   "metadata": {},
   "outputs": [],
   "source": [
    "# specify world parameters\n",
    "num_cols = 3\n",
    "num_rows = 3\n",
    "obstructions = np.array([[1,0],[1,2]])\n",
    "start_state = np.array([[0,0], [0,2]])\n",
    "start_states_plot = start_state\n",
    "# start_states_plot = np.array([[0,0], [0,2]])\n",
    "# goal_states_plot = np.array([[2,2], [2, 2]])\n",
    "# start_states_plot = np.array([[0,0]], )\n",
    "# goal_states_plot = np.array([[2,2]])\n",
    "# goal_states = np.array([[2, 0], [2, 1]])\n",
    "goal_states = np.array([[0,0], [0,1], [0,2], [1, 1], [2, 1], [2,2], [2, 0]])\n",
    "goal_states_plot = goal_states"
   ]
  },
  {
   "cell_type": "code",
   "execution_count": 62,
   "metadata": {},
   "outputs": [],
   "source": [
    "class ValueDataset(torch.utils.data.Dataset):\n",
    "    def __init__(self, value_function, start_states, goal_states, model, mean=None, std=None):\n",
    "        self.value_function = value_function\n",
    "        self.start_states = start_states\n",
    "        self.goal_states = goal_states\n",
    "        self.start_states_seq = row_col_to_seq(self.start_states, model.num_cols)\n",
    "        self.goal_states_seq = row_col_to_seq(self.goal_states, model.num_cols)\n",
    "        self.start_states = (self.start_states - mean) / std\n",
    "        self.goal_states = (self.goal_states - mean) / std\n",
    "        self.start_dict = {k: v for k, v in zip(self.start_states_seq, self.start_states)}\n",
    "        self.goal_dict = {k: v for k, v in zip(self.goal_states_seq, self.goal_states)}\n",
    "        \n",
    "    def __len__(self):\n",
    "        return len(self.start_states_seq)*len(self.goal_states_seq)\n",
    "\n",
    "    def __getitem__(self, idx):\n",
    "        s_idx = idx % len(self.goal_states_seq) #start index\n",
    "        g_idx = idx // len(self.goal_states_seq) #goal index\n",
    "        s = self.start_states_seq[s_idx]\n",
    "        g = self.goal_states_seq[g_idx]\n",
    "        if s==g:\n",
    "            g = self.goal_states_seq[np.random.randint(len(self.goal_states_seq)) % len(self.goal_states_seq)]\n",
    "        v_x = self.value_function[s, g]\n",
    "        x = np.hstack([self.start_dict[s], self.goal_dict[g]])\n",
    "        xsm = []\n",
    "        xmg = []\n",
    "        v_xsm = []\n",
    "        v_xmg = []\n",
    "        for m in self.start_states_seq:\n",
    "            xsm.append(np.hstack([self.start_dict[s], self.goal_dict[m]]))\n",
    "            xmg.append(np.hstack([self.start_dict[m], self.goal_dict[g]]))\n",
    "            v_xsm.append(self.value_function[s, m])\n",
    "            v_xmg.append(self.value_function[m, g])\n",
    "\n",
    "        xsm = np.array(xsm)\n",
    "        xmg = np.array(xmg)\n",
    "        v_xsm = np.array(v_xsm)\n",
    "        v_xmg = np.array(v_xmg)\n",
    "        return x, xsm, xmg, v_x, v_xsm, v_xmg "
   ]
  },
  {
   "cell_type": "code",
   "execution_count": 63,
   "metadata": {},
   "outputs": [],
   "source": [
    "# Prepare dataset\n",
    "dataset = ValueDataset(value_function,\n",
    "                       start_states=goal_states, goal_states=goal_states,\n",
    "                       model=model, \n",
    "                       mean=mean, std=std\n",
    "                      )\n",
    "trainloader = torch.utils.data.DataLoader(dataset, batch_size=70, shuffle=True, num_workers=0)"
   ]
  },
  {
   "cell_type": "code",
   "execution_count": 113,
   "metadata": {},
   "outputs": [],
   "source": [
    "class DC(nn.Module):\n",
    "    def __init__(self, middle_dim=4, n_states=7, states=None, mean=0, std=1):\n",
    "        super().__init__()\n",
    "        self.layers = nn.Sequential(\n",
    "          nn.Linear(4, middle_dim),\n",
    "              nn.LeakyReLU(),\n",
    "              nn.Linear(middle_dim, 1),\n",
    "#               nn.LeakyReLU(),\n",
    "#               nn.Linear(64, 1)\n",
    "        )\n",
    "        \n",
    "        middle_proba_dim = 4\n",
    "        self.proba = nn.Sequential(\n",
    "            nn.Linear(4, middle_proba_dim),\n",
    "#             nn.LeakyReLU(),\n",
    "#             nn.Linear(middle_proba_dim, middle_proba_dim),\n",
    "#             nn.LeakyReLU(),\n",
    "            nn.Linear(middle_proba_dim, n_states+1),\n",
    "            nn.Softmax()\n",
    "        )\n",
    "        \n",
    "        self.states_original = states\n",
    "        self.mean = mean\n",
    "        self.std = std\n",
    "        self.states = (self.states_original - mean) / std\n",
    "        \n",
    "    def prepare_data(self, s, g):\n",
    "        x = np.hstack([s, g])\n",
    "        x_s_m = []\n",
    "        x_m_g = []\n",
    "        for m in self.states:\n",
    "            xsm = np.hstack([s, m])\n",
    "            xmg = np.hstack([m, g])\n",
    "            x_s_m.append(xsm)\n",
    "            x_m_g.append(xmg)\n",
    "        \n",
    "        x_s_m = np.array(x_s_m)\n",
    "        x_m_g = np.array(x_m_g)\n",
    "        \n",
    "        data = torch.tensor(x[None]).float(), torch.tensor(x_s_m[None]).float(), torch.tensor(x_m_g[None]).float()\n",
    "        \n",
    "        return data\n",
    "        \n",
    "\n",
    "    def forward(self, data):\n",
    "        x, x_s_m, x_m_g = data\n",
    "        p = self.proba(x)\n",
    "        y_x = self.layers(x)\n",
    "        y_xsm = self.layers(x_s_m)\n",
    "        y_xmg = self.layers(x_m_g)\n",
    "        subpaths = y_xsm[:, :, 0]*y_xmg[:, :, 0]\n",
    "        paths = torch.cat([y_x, subpaths], 1)\n",
    "        return p, paths, y_x, y_xsm, y_xmg\n"
   ]
  },
  {
   "cell_type": "code",
   "execution_count": 114,
   "metadata": {},
   "outputs": [],
   "source": [
    "# Initialize the MLP\n",
    "mlp = DC(states=goal_states, \n",
    "         mean=mean, std=std\n",
    "        )\n",
    "\n",
    "# Define the loss function and optimizer\n",
    "# loss_function = nn.L1Loss()\n",
    "optimizer = torch.optim.SGD(mlp.parameters(), lr=1e-2)"
   ]
  },
  {
   "cell_type": "code",
   "execution_count": 115,
   "metadata": {
    "scrolled": false
   },
   "outputs": [
    {
     "name": "stdout",
     "output_type": "stream",
     "text": [
      "Loss: -1.169\n",
      "p argrmax tensor([4, 3, 2, 4, 2, 4, 4, 3, 3, 3, 3, 3, 3, 3, 3, 4, 2, 3, 3, 3, 4, 3, 2, 4,\n",
      "        3, 2, 3, 3, 3, 4, 3, 2, 3, 3, 4, 3, 3, 3, 4, 4, 3, 3, 3, 4, 3, 3, 4, 4,\n",
      "        2])\n",
      "Loss: -1.840\n",
      "p argrmax tensor([0, 4, 2, 3, 4, 4, 2, 4, 4, 6, 0, 7, 4, 0, 4, 4, 2, 0, 0, 0, 4, 2, 2, 4,\n",
      "        4, 2, 4, 4, 4, 2, 0, 0, 4, 4, 4, 0, 3, 4, 0, 2, 2, 0, 2, 4, 0, 2, 2, 2,\n",
      "        2])\n",
      "Loss: -1.896\n",
      "p argrmax tensor([2, 2, 2, 4, 0, 2, 0, 2, 0, 2, 0, 0, 2, 4, 0, 0, 0, 0, 0, 4, 0, 0, 4, 2,\n",
      "        2, 4, 4, 0, 0, 3, 0, 0, 0, 4, 0, 0, 0, 0, 2, 2, 0, 2, 0, 2, 0, 2, 0, 0,\n",
      "        2])\n",
      "Loss: -1.918\n",
      "p argrmax tensor([2, 0, 2, 0, 0, 0, 2, 2, 0, 0, 4, 2, 0, 1, 0, 0, 0, 2, 2, 0, 0, 0, 2, 0,\n",
      "        4, 0, 2, 2, 2, 0, 2, 0, 4, 2, 3, 4, 0, 0, 2, 0, 2, 0, 0, 0, 0, 0, 2, 0,\n",
      "        4])\n",
      "Loss: -1.938\n",
      "p argrmax tensor([2, 0, 2, 0, 0, 2, 2, 4, 0, 0, 2, 0, 0, 0, 0, 0, 0, 0, 0, 5, 0, 0, 2, 2,\n",
      "        1, 1, 0, 0, 4, 3, 2, 0, 0, 2, 5, 0, 0, 0, 0, 0, 0, 0, 2, 1, 0, 2, 0, 2,\n",
      "        0])\n",
      "Loss: -1.938\n",
      "p argrmax tensor([0, 3, 1, 2, 2, 0, 0, 0, 0, 0, 0, 2, 0, 0, 5, 2, 0, 2, 2, 0, 0, 2, 2, 5,\n",
      "        0, 2, 0, 4, 0, 1, 0, 0, 0, 1, 0, 0, 2, 0, 0, 4, 0, 0, 2, 0, 0, 0, 5, 2,\n",
      "        2])\n",
      "Loss: -1.947\n",
      "p argrmax tensor([2, 4, 0, 0, 0, 4, 2, 0, 0, 0, 0, 0, 0, 0, 2, 5, 2, 0, 0, 0, 2, 2, 0, 2,\n",
      "        0, 0, 0, 0, 0, 0, 2, 0, 0, 5, 1, 0, 0, 4, 5, 5, 0, 0, 0, 0, 5, 2, 2, 2,\n",
      "        0])\n",
      "Loss: -1.946\n",
      "p argrmax tensor([2, 2, 0, 0, 5, 0, 1, 0, 7, 0, 2, 0, 0, 0, 0, 4, 0, 7, 0, 0, 5, 2, 0, 0,\n",
      "        5, 5, 0, 0, 2, 2, 0, 0, 0, 0, 2, 0, 2, 0, 0, 2, 0, 0, 0, 2, 0, 0, 2, 0,\n",
      "        0])\n",
      "Loss: -1.949\n",
      "p argrmax tensor([4, 2, 2, 0, 0, 0, 2, 2, 7, 2, 0, 0, 0, 2, 0, 5, 0, 0, 1, 2, 2, 0, 2, 0,\n",
      "        0, 0, 0, 0, 5, 0, 2, 2, 0, 0, 0, 0, 0, 0, 0, 2, 0, 0, 0, 0, 5, 0, 0, 0,\n",
      "        5])\n",
      "Loss: -1.950\n",
      "p argrmax tensor([0, 0, 5, 5, 0, 0, 2, 0, 0, 0, 2, 7, 5, 0, 5, 0, 0, 0, 0, 0, 2, 0, 0, 2,\n",
      "        0, 0, 2, 0, 2, 0, 1, 0, 2, 0, 7, 0, 2, 0, 0, 5, 0, 5, 2, 0, 0, 2, 0, 0,\n",
      "        0])\n",
      "Loss: -1.949\n",
      "p argrmax tensor([7, 2, 0, 0, 0, 0, 0, 0, 0, 0, 0, 2, 0, 2, 0, 2, 0, 0, 5, 2, 2, 0, 0, 2,\n",
      "        0, 5, 0, 0, 7, 2, 1, 5, 5, 0, 2, 0, 5, 0, 0, 0, 2, 5, 2, 0, 7, 5, 0, 0,\n",
      "        0])\n",
      "Loss: -1.935\n",
      "p argrmax tensor([0, 2, 0, 2, 1, 7, 0, 0, 5, 0, 0, 0, 2, 7, 5, 0, 2, 2, 2, 0, 0, 5, 0, 0,\n",
      "        0, 0, 0, 0, 5, 2, 0, 5, 0, 0, 0, 2, 0, 0, 0, 0, 2, 0, 2, 0, 7, 2, 0, 0,\n",
      "        5])\n",
      "Loss: -1.953\n",
      "p argrmax tensor([0, 2, 5, 0, 2, 0, 2, 0, 0, 0, 0, 0, 2, 0, 0, 0, 5, 0, 0, 0, 0, 2, 7, 5,\n",
      "        0, 5, 7, 0, 0, 2, 2, 0, 2, 5, 0, 2, 0, 0, 0, 0, 2, 0, 0, 2, 0, 0, 0, 0,\n",
      "        0])\n",
      "Loss: -1.948\n",
      "p argrmax tensor([0, 0, 0, 2, 2, 2, 2, 0, 5, 0, 0, 0, 2, 0, 5, 0, 0, 5, 5, 2, 0, 0, 0, 0,\n",
      "        0, 0, 0, 2, 0, 0, 0, 5, 2, 0, 0, 0, 0, 5, 7, 0, 0, 2, 0, 0, 0, 0, 2, 0,\n",
      "        2])\n",
      "Loss: -1.948\n",
      "p argrmax tensor([2, 0, 2, 0, 0, 0, 0, 0, 5, 2, 0, 0, 0, 2, 5, 0, 0, 0, 0, 2, 0, 0, 5, 0,\n",
      "        0, 0, 0, 0, 2, 2, 2, 0, 0, 0, 5, 2, 5, 0, 5, 0, 5, 0, 0, 5, 2, 5, 0, 0,\n",
      "        0])\n",
      "Loss: -1.948\n",
      "p argrmax tensor([2, 5, 0, 0, 5, 0, 0, 2, 0, 0, 0, 0, 0, 2, 2, 5, 0, 0, 0, 0, 0, 0, 2, 2,\n",
      "        0, 5, 0, 0, 5, 0, 0, 0, 0, 0, 2, 0, 5, 0, 2, 5, 2, 0, 0, 5, 2, 5, 0, 2,\n",
      "        5])\n",
      "Loss: -1.939\n",
      "p argrmax tensor([0, 0, 0, 2, 5, 0, 2, 0, 0, 0, 5, 5, 5, 2, 0, 0, 0, 5, 0, 0, 0, 0, 5, 5,\n",
      "        0, 0, 0, 0, 0, 2, 5, 2, 0, 2, 0, 2, 0, 0, 0, 0, 2, 0, 5, 0, 2, 2, 0, 0,\n",
      "        0])\n",
      "Loss: -1.947\n",
      "p argrmax tensor([5, 2, 0, 5, 5, 0, 0, 0, 2, 2, 0, 5, 0, 5, 2, 0, 5, 0, 0, 0, 2, 0, 0, 0,\n",
      "        0, 0, 0, 0, 2, 2, 2, 0, 0, 0, 2, 0, 5, 0, 0, 0, 0, 0, 5, 0, 0, 0, 2, 0,\n",
      "        5])\n",
      "Loss: -1.947\n",
      "p argrmax tensor([0, 0, 0, 5, 0, 0, 0, 5, 2, 5, 0, 2, 0, 0, 5, 0, 2, 5, 0, 0, 0, 0, 0, 0,\n",
      "        2, 0, 0, 5, 0, 0, 0, 2, 0, 5, 0, 0, 0, 5, 0, 2, 5, 5, 0, 0, 0, 2, 0, 2,\n",
      "        2])\n",
      "Loss: -1.945\n",
      "p argrmax tensor([5, 5, 0, 5, 5, 0, 0, 0, 5, 0, 0, 0, 2, 0, 0, 0, 0, 0, 0, 0, 2, 5, 5, 2,\n",
      "        5, 0, 0, 2, 2, 0, 2, 5, 0, 0, 0, 2, 0, 0, 2, 0, 0, 0, 0, 2, 0, 2, 0, 5,\n",
      "        2])\n",
      "Training process has finished.\n"
     ]
    }
   ],
   "source": [
    "# Run the training loop\n",
    "for epoch in range(0, 10000): # 5 epochs at maximum\n",
    "    # Print epoch\n",
    "#     print(f'Starting epoch {epoch+1}')\n",
    "\n",
    "    # Set current loss value\n",
    "    current_loss = 0.0\n",
    "\n",
    "    # Iterate over the DataLoader for training data\n",
    "    for i, data in enumerate(trainloader, 0):\n",
    "        # Get and prepare inputs\n",
    "        x, x_s_m, x_m_g, v_x, v_xsm, v_xmg  = data\n",
    "        \n",
    "        x, x_s_m, x_m_g, v_x, v_xsm, v_xmg  = x.float(), x_s_m.float(), x_m_g.float(), v_x.float(), v_xsm.float(), v_xmg.float()\n",
    "        inputs = x, x_s_m, x_m_g\n",
    "        v_x, v_xsm, v_xmg = v_x.unsqueeze(-1), v_xsm.unsqueeze(-1), v_xmg.unsqueeze(-1)\n",
    "\n",
    "        # Zero the gradients\n",
    "        optimizer.zero_grad()\n",
    "\n",
    "        # Perform forward pass\n",
    "        p, outputs, y_x, y_xsm, y_xmg = mlp(inputs)\n",
    "\n",
    "        # Compute loss\n",
    "        loss_v_x = torch.abs(y_x-v_x)\n",
    "        loss_v_xsm = torch.abs((y_xsm-v_xsm)*v_xmg)\n",
    "        loss_v_xmg = torch.abs((y_xmg-v_xmg)*v_xsm)\n",
    "        loss_vsg_vsmg = torch.abs(v_xsm*v_xmg-v_x.unsqueeze(-1))\n",
    "        loss_subgoal = loss_v_xsm + loss_v_xmg + loss_vsg_vsmg\n",
    "        loss_p = (p*torch.log(p)).sum(1).mean()\n",
    "        loss = (p[:, :1]*loss_v_x).sum(dim=1).mean() + (p[:, 1:].unsqueeze(-1)*loss_subgoal).sum(1).mean() + loss_p\n",
    "#         loss = loss_v_x + loss_v_xsm + loss_v_xmg + loss_vsg_vsmg\n",
    "#         loss = loss_vsg_vsmg + (p[:, :1]*100).mean()\n",
    "#         loss = loss_vsg_vsmg + (p[:, :1]*100).mean() + loss_v_xsm + loss_v_xmg\n",
    "        \n",
    "\n",
    "        # Perform backward pass\n",
    "        loss.backward()\n",
    "\n",
    "        # Perform optimization\n",
    "        optimizer.step()\n",
    "\n",
    "        # Print statistics\n",
    "        current_loss += loss.item()\n",
    "    \n",
    "    if epoch % 500 == 0:\n",
    "        print('Loss: %.3f' % (current_loss ))\n",
    "        true_dif = (v_xsm*v_xmg)[:, :, 0]-v_x\n",
    "        argmax = p[:, 1:].argmax(-1)\n",
    "#         print('x', x[0])\n",
    "        print('p argrmax', p.argmax(-1))\n",
    "#         print('loss_v_x', loss_v_x[0])\n",
    "#         print('loss_subgoal', loss_subgoal[0])\n",
    "#         print('loss_v_xsm', loss_v_xsm[0])\n",
    "#         print('loss_v_xmg', loss_v_xmg[0])\n",
    "#         print('loss_vsg_vsmg', loss_vsg_vsmg[0])\n",
    "#         print('x_s_m', x_s_m[0])\n",
    "#         print('x_m_g', x_m_g[0])\n",
    "        idx = p[0].argmax(-1)\n",
    "#         print('idx', idx)\n",
    "#         print('m', mlp.states_original[idx-1:idx])\n",
    "#         seq_to_col_row()\n",
    "#         abs_argmax = torch.abs(outputs.detach()-v_x).argmax(-1)\n",
    "#         print('argmax abs', abs_argmax)\n",
    "#         abs_argmax = torch.abs(outputs[:, 1:].detach()-v_x).argmax(-1)\n",
    "#         print('true_dif[:, abs_argmax]', true_dif[torch.arange(len(argmax)), argmax])\n",
    "        \n",
    "    current_loss = 0.0\n",
    "\n",
    "# Process is complete.\n",
    "print('Training process has finished.')"
   ]
  },
  {
   "cell_type": "code",
   "execution_count": 116,
   "metadata": {
    "scrolled": false
   },
   "outputs": [
    {
     "name": "stdout",
     "output_type": "stream",
     "text": [
      "idx tensor(2)\n",
      "m [[0 1]]\n",
      "idx tensor(2)\n",
      "m [[0 1]]\n",
      "idx tensor(2)\n",
      "m [[0 1]]\n",
      "idx tensor(0)\n",
      "m []\n",
      "idx tensor(0)\n",
      "m []\n",
      "idx tensor(0)\n",
      "m []\n",
      "idx tensor(0)\n",
      "m []\n",
      "idx tensor(2)\n",
      "m [[0 1]]\n",
      "idx tensor(2)\n",
      "m [[0 1]]\n",
      "idx tensor(2)\n",
      "m [[0 1]]\n",
      "idx tensor(0)\n",
      "m []\n",
      "idx tensor(0)\n",
      "m []\n",
      "idx tensor(0)\n",
      "m []\n",
      "idx tensor(0)\n",
      "m []\n",
      "idx tensor(2)\n",
      "m [[0 1]]\n",
      "idx tensor(2)\n",
      "m [[0 1]]\n",
      "idx tensor(2)\n",
      "m [[0 1]]\n",
      "idx tensor(2)\n",
      "m [[0 1]]\n",
      "idx tensor(0)\n",
      "m []\n",
      "idx tensor(0)\n",
      "m []\n",
      "idx tensor(0)\n",
      "m []\n",
      "idx tensor(0)\n",
      "m []\n",
      "idx tensor(0)\n",
      "m []\n",
      "idx tensor(0)\n",
      "m []\n",
      "idx tensor(0)\n",
      "m []\n",
      "idx tensor(0)\n",
      "m []\n",
      "idx tensor(0)\n",
      "m []\n",
      "idx tensor(0)\n",
      "m []\n",
      "idx tensor(0)\n",
      "m []\n",
      "idx tensor(0)\n",
      "m []\n",
      "idx tensor(2)\n",
      "m [[0 1]]\n",
      "idx tensor(0)\n",
      "m []\n",
      "idx tensor(0)\n",
      "m []\n",
      "idx tensor(0)\n",
      "m []\n",
      "idx tensor(5)\n",
      "m [[2 1]]\n",
      "idx tensor(0)\n",
      "m []\n",
      "idx tensor(2)\n",
      "m [[0 1]]\n",
      "idx tensor(2)\n",
      "m [[0 1]]\n",
      "idx tensor(0)\n",
      "m []\n",
      "idx tensor(0)\n",
      "m []\n",
      "idx tensor(0)\n",
      "m []\n",
      "idx tensor(5)\n",
      "m [[2 1]]\n",
      "idx tensor(0)\n",
      "m []\n",
      "idx tensor(0)\n",
      "m []\n",
      "idx tensor(0)\n",
      "m []\n",
      "idx tensor(0)\n",
      "m []\n",
      "idx tensor(5)\n",
      "m [[2 1]]\n",
      "idx tensor(5)\n",
      "m [[2 1]]\n",
      "idx tensor(5)\n",
      "m [[2 1]]\n",
      "idx tensor(0)\n",
      "m []\n",
      "idx tensor(0)\n",
      "m []\n",
      "idx tensor(0)\n",
      "m []\n",
      "idx tensor(0)\n",
      "m []\n",
      "idx tensor(5)\n",
      "m [[2 1]]\n",
      "idx tensor(5)\n",
      "m [[2 1]]\n",
      "idx tensor(5)\n",
      "m [[2 1]]\n",
      "idx tensor(0)\n",
      "m []\n",
      "idx tensor(0)\n",
      "m []\n",
      "idx tensor(0)\n",
      "m []\n",
      "idx tensor(5)\n",
      "m [[2 1]]\n",
      "idx tensor(5)\n",
      "m [[2 1]]\n",
      "idx tensor(5)\n",
      "m [[2 1]]\n",
      "idx tensor(5)\n",
      "m [[2 1]]\n"
     ]
    }
   ],
   "source": [
    "predict = []\n",
    "for x in X:\n",
    "    x = (x - mean) / std\n",
    "    s = x[:2]\n",
    "    g = x[2:]\n",
    "    data = mlp.prepare_data(s, g)\n",
    "    p, v, y_x, y_xsm, y_xmg = mlp(data)\n",
    "#     print('p', p)\n",
    "    idx = p.argmax()\n",
    "    print('idx', idx)\n",
    "    print('m', mlp.states_original[idx-1:idx])\n",
    "#     print(mlp.get_propa(data))\n",
    "    predict.append(v.detach().numpy()[:, 0])\n",
    "\n",
    "predict = np.array(predict)[:, 0]\n",
    "    \n",
    "    "
   ]
  },
  {
   "cell_type": "code",
   "execution_count": 117,
   "metadata": {},
   "outputs": [
    {
     "name": "stdout",
     "output_type": "stream",
     "text": [
      "idx tensor(0)\n",
      "idx tensor(0)\n",
      "idx tensor(0)\n",
      "idx tensor(0)\n",
      "idx tensor(2)\n",
      "idx tensor(2)\n",
      "idx tensor(5)\n",
      "idx tensor(5)\n",
      "idx tensor(2)\n",
      "(9, 2) (9, 2) 9\n"
     ]
    }
   ],
   "source": [
    "start_state_sub = np.array([[0,0], [0,2], [2,2], [2, 0], [0,0], [0,2], [2,2], [2, 0], [0,0]])\n",
    "goal_states_sub = np.array([[2,2], [2, 0], [0,0], [0,2], [0,2], [0,0], [2, 0], [2,2], [0,1]])\n",
    "subgoal_states_sub = []\n",
    "\n",
    "for s, g in zip(start_state_sub, goal_states_sub):\n",
    "    s = (s - mean) / std\n",
    "    g = (g - mean) / std\n",
    "    data = mlp.prepare_data(s, g)\n",
    "    p, *_ = mlp(data)\n",
    "    idx = p.argmax()\n",
    "    print('idx', idx)\n",
    "    if idx == 0:\n",
    "        subgoal_states_sub.append([None])\n",
    "    else:\n",
    "        subgoal_states_sub.append(mlp.states_original[idx-1:idx])\n",
    "        \n",
    "print(start_state_sub.shape, goal_states_sub.shape, len(subgoal_states_sub))\n"
   ]
  },
  {
   "cell_type": "code",
   "execution_count": 118,
   "metadata": {},
   "outputs": [
    {
     "data": {
      "text/plain": [
       "[[None],\n",
       " [None],\n",
       " [None],\n",
       " [None],\n",
       " array([[0, 1]]),\n",
       " array([[0, 1]]),\n",
       " array([[2, 1]]),\n",
       " array([[2, 1]]),\n",
       " array([[0, 1]])]"
      ]
     },
     "execution_count": 118,
     "metadata": {},
     "output_type": "execute_result"
    }
   ],
   "source": [
    "subgoal_states_sub"
   ]
  },
  {
   "cell_type": "code",
   "execution_count": 119,
   "metadata": {},
   "outputs": [],
   "source": [
    "import matplotlib.pyplot as plt\n",
    "plt.rcParams[\"figure.figsize\"] = (10,20)"
   ]
  },
  {
   "cell_type": "code",
   "execution_count": 120,
   "metadata": {},
   "outputs": [],
   "source": [
    "def find_plot_pi_hat(y_hat, model, index):\n",
    "    pi_hat = np.ones((model.num_states, model.num_states, 1))\n",
    "    val_hat_ = np.zeros((model.num_states, model.num_states, 1))\n",
    "    val_hat_[index[:, 0], index[:, 1], 0] = y_hat\n",
    "\n",
    "    # compute the policy\n",
    "    for state in range(model.num_states):\n",
    "        for goal in model.goal_states_seq:\n",
    "            P = copy.deepcopy(model.P)\n",
    "            P[goal, :, :] = 0\n",
    "            P[goal, model.num_states - 1, :] = 1\n",
    "            pi_hat[state, goal] = np.argmax(np.sum(val_hat_[:, goal, :] * P[state,:,:],0))\n",
    "    \n",
    "    return pi_hat"
   ]
  },
  {
   "cell_type": "code",
   "execution_count": 121,
   "metadata": {},
   "outputs": [
    {
     "name": "stdout",
     "output_type": "stream",
     "text": [
      "goal_reached 4\n",
      "goal_reached 4\n",
      "goal_reached 4\n",
      "goal_reached 4\n",
      "goal_reached 1\n",
      "goal_reached 1\n",
      "goal_reached 1\n",
      "goal_reached 1\n",
      "goal_reached 1\n",
      "goal_reached 1\n",
      "goal_reached 1\n",
      "goal_reached 1\n",
      "goal_reached 1\n",
      "goal_reached 1\n"
     ]
    },
    {
     "data": {
      "image/png": "[encoded data removed]",
      "text/plain": [
       "<Figure size 720x1440 with 9 Axes>"
      ]
     },
     "metadata": {
      "needs_background": "light"
     },
     "output_type": "display_data"
    }
   ],
   "source": [
    "pi_hat = find_plot_pi_hat(predict, model, index)\n",
    "plot_gridworld_subtasks(model, value_function=value_function, policy=pi_hat, path=path,\n",
    "                       start_states=start_state_sub, goal_states=goal_states_sub, subgoal_states=subgoal_states_sub)"
   ]
  },
  {
   "cell_type": "code",
   "execution_count": null,
   "metadata": {},
   "outputs": [],
   "source": []
  }
 ],
 "metadata": {
  "kernelspec": {
   "display_name": "Python 3",
   "language": "python",
   "name": "python3"
  },
  "language_info": {
   "codemirror_mode": {
    "name": "ipython",
    "version": 3
   },
   "file_extension": ".py",
   "mimetype": "text/x-python",
   "name": "python",
   "nbconvert_exporter": "python",
   "pygments_lexer": "ipython3",
   "version": "3.8.8"
  }
 },
 "nbformat": 4,
 "nbformat_minor": 1
}
