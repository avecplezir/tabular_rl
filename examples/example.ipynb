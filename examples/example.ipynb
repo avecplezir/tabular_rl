{
 "cells": [
  {
   "cell_type": "code",
   "execution_count": 1,
   "metadata": {},
   "outputs": [
    {
     "name": "stderr",
     "output_type": "stream",
     "text": [
      "/Users/ivananokhin/opt/anaconda3/lib/python3.8/site-packages/numpy/core/fromnumeric.py:87: VisibleDeprecationWarning: Creating an ndarray from ragged nested sequences (which is a list-or-tuple of lists-or-tuples-or ndarrays with different lengths or shapes) is deprecated. If you meant to do this, you must specify 'dtype=object' when creating the ndarray.\n",
      "  return ufunc.reduce(obj, axis, dtype, out, **passkwargs)\n",
      "../utils/helper_functions_multitask.py:10: VisibleDeprecationWarning: Creating an ndarray from ragged nested sequences (which is a list-or-tuple of lists-or-tuples-or ndarrays with different lengths or shapes) is deprecated. If you meant to do this, you must specify 'dtype=object' when creating the ndarray.\n",
      "  return np.array([[r, c]])\n",
      "../utils/helper_functions.py:10: VisibleDeprecationWarning: Creating an ndarray from ragged nested sequences (which is a list-or-tuple of lists-or-tuples-or ndarrays with different lengths or shapes) is deprecated. If you meant to do this, you must specify 'dtype=object' when creating the ndarray.\n",
      "  return np.array([[r, c]])\n"
     ]
    },
    {
     "name": "stdout",
     "output_type": "stream",
     "text": [
      "Value iteration converged after 5 iterations.\n",
      "goal_reached 1\n",
      "goal_reached 1\n",
      "goal_reached 2\n",
      "goal_reached 2\n",
      "goal_reached 3\n",
      "goal_reached 4\n",
      "goal_reached 4\n",
      "goal_reached 2\n",
      "goal_reached 1\n",
      "goal_reached 1\n",
      "goal_reached 2\n",
      "goal_reached 3\n",
      "goal_reached 4\n",
      "goal_reached 4\n"
     ]
    },
    {
     "name": "stderr",
     "output_type": "stream",
     "text": [
      "/Users/ivananokhin/opt/anaconda3/lib/python3.8/site-packages/matplotlib/quiver.py:668: RuntimeWarning: Mean of empty slice.\n",
      "  amean = a[~self.Umask].mean()\n",
      "/Users/ivananokhin/opt/anaconda3/lib/python3.8/site-packages/numpy/core/_methods.py:188: RuntimeWarning: invalid value encountered in double_scalars\n",
      "  ret = ret.dtype.type(ret / rcount)\n"
     ]
    },
    {
     "data": {
      "image/png": "[encoded data removed]",
      "text/plain": [
       "<Figure size 432x288 with 14 Axes>"
      ]
     },
     "metadata": {
      "needs_background": "light"
     },
     "output_type": "display_data"
    }
   ],
   "source": [
    "import sys\n",
    "sys.path.append(\"..\")\n",
    "import numpy as np\n",
    "from env.grid_world_multitask import GridWorld\n",
    "from algorithms.dynamic_programming_multitask import value_iteration\n",
    "from utils.plots_multitask import plot_gridworld\n",
    "import copy\n",
    "\n",
    "###########################################################\n",
    "#          Run value iteration on a grid world            #\n",
    "###########################################################\n",
    "\n",
    "# specify world parameters\n",
    "num_cols = 3\n",
    "num_rows = 3\n",
    "obstructions = np.array([[1,0],[1,2]])\n",
    "start_state = np.array([[0,0], [0,2]])\n",
    "start_states_plot = start_state\n",
    "# start_states_plot = np.array([[0,0], [0,2]])\n",
    "# goal_states_plot = np.array([[2,2], [2, 2]])\n",
    "# start_states_plot = np.array([[0,0]], )\n",
    "# goal_states_plot = np.array([[2,2]])\n",
    "# goal_states = np.array([[2, 0], [2, 1]])\n",
    "goal_states = np.array([[0,0], [0,1], [0,2], [1, 1], [2, 1], [2,2], [2, 0]])\n",
    "goal_states_plot = goal_states\n",
    "\n",
    "# create model\n",
    "gw = GridWorld(num_rows=num_rows,\n",
    "               num_cols=num_cols,\n",
    "               start_state=start_state,\n",
    "               goal_states=goal_states)\n",
    "gw.add_obstructions(\n",
    "                    obstructed_states=obstructions,\n",
    "                    # bad_states=bad_states,\n",
    "                    # restart_states=restart_states\n",
    "                    )\n",
    "gw.add_rewards(\n",
    "               step_reward=0,\n",
    "               goal_reward=1,\n",
    "               bad_state_reward=0,\n",
    "               restart_state_reward=0)\n",
    "gw.add_transition_probability(p_good_transition=1.,\n",
    "                              bias=0.)\n",
    "gw.add_discount(discount=0.9)\n",
    "model = gw.create_gridworld()\n",
    "\n",
    "# print('model created')\n",
    "\n",
    "# solve with value iteration\n",
    "value_function, policy = value_iteration(model, maxiter=100)\n",
    "\n",
    "# print('policy created')\n",
    "\n",
    "# print('policy', policy.shape)\n",
    "\n",
    "# plot the results\n",
    "path = \"../doc/imgs/value_iteration.png\"\n",
    "plot_gridworld(model, value_function=value_function, policy=policy,\n",
    "               # title=\"Value iteration\",\n",
    "               path=path,\n",
    "               start_states=start_states_plot, goal_states=goal_states_plot)\n",
    "\n",
    "# print('plot saved')"
   ]
  },
  {
   "cell_type": "code",
   "execution_count": 2,
   "metadata": {},
   "outputs": [],
   "source": [
    "value_function = value_function[:, :, 0]"
   ]
  },
  {
   "cell_type": "code",
   "execution_count": 3,
   "metadata": {},
   "outputs": [
    {
     "data": {
      "text/plain": [
       "(10, 10)"
      ]
     },
     "execution_count": 3,
     "metadata": {},
     "output_type": "execute_result"
    }
   ],
   "source": [
    "value_function.shape"
   ]
  },
  {
   "cell_type": "code",
   "execution_count": 4,
   "metadata": {},
   "outputs": [],
   "source": [
    "from utils.helper_functions import row_col_to_seq, seq_to_col_row"
   ]
  },
  {
   "cell_type": "code",
   "execution_count": 5,
   "metadata": {},
   "outputs": [],
   "source": [
    "beg_state = np.array([[0,0]])\n",
    "middle_state = np.array([[1,1]])\n",
    "end_stae = np.array([[2,2]])\n",
    "beg_state_seq = row_col_to_seq(beg_state, model.num_cols)\n",
    "middle_state_seq = row_col_to_seq(middle_state, model.num_cols)\n",
    "end_stae_seq = row_col_to_seq(end_stae, model.num_cols)"
   ]
  },
  {
   "cell_type": "code",
   "execution_count": 6,
   "metadata": {},
   "outputs": [
    {
     "data": {
      "text/plain": [
       "(array([0]), array([4]), array([8]))"
      ]
     },
     "execution_count": 6,
     "metadata": {},
     "output_type": "execute_result"
    }
   ],
   "source": [
    "beg_state_seq, middle_state_seq, end_stae_seq"
   ]
  },
  {
   "cell_type": "code",
   "execution_count": 7,
   "metadata": {},
   "outputs": [
    {
     "data": {
      "text/plain": [
       "array([3])"
      ]
     },
     "execution_count": 7,
     "metadata": {},
     "output_type": "execute_result"
    }
   ],
   "source": [
    "row_col_to_seq(np.array([[1, 0]]), model.num_cols)"
   ]
  },
  {
   "cell_type": "code",
   "execution_count": 8,
   "metadata": {},
   "outputs": [
    {
     "data": {
      "text/plain": [
       "(array([0.6561]), array([0.6561]))"
      ]
     },
     "execution_count": 8,
     "metadata": {},
     "output_type": "execute_result"
    }
   ],
   "source": [
    "value_function[beg_state_seq, end_stae_seq], \\\n",
    "value_function[beg_state_seq, middle_state_seq]*value_function[middle_state_seq, end_stae_seq]"
   ]
  },
  {
   "cell_type": "code",
   "execution_count": 9,
   "metadata": {},
   "outputs": [
    {
     "data": {
      "text/plain": [
       "((63, 4), (63,))"
      ]
     },
     "execution_count": 9,
     "metadata": {},
     "output_type": "execute_result"
    }
   ],
   "source": [
    "X = []\n",
    "index = []\n",
    "for state_seq in range(model.num_states-1):\n",
    "    for goal in goal_states:\n",
    "        goal = goal[None, :]\n",
    "        state = seq_to_col_row(state_seq, model.num_cols)\n",
    "        goal_seq = row_col_to_seq(goal, model.num_cols)\n",
    "        x = np.hstack([state, goal])\n",
    "        X.append(x)\n",
    "        index.append([state_seq, goal_seq[0]])\n",
    "X = np.array(X)[:, 0]\n",
    "index = np.array(index)\n",
    "\n",
    "y = value_function[index[:, 0], index[:, 1]]\n",
    "\n",
    "X.shape, y.shape"
   ]
  },
  {
   "cell_type": "code",
   "execution_count": 10,
   "metadata": {},
   "outputs": [],
   "source": [
    "from sklearn.linear_model import LinearRegression"
   ]
  },
  {
   "cell_type": "code",
   "execution_count": 11,
   "metadata": {},
   "outputs": [],
   "source": [
    "reg = LinearRegression().fit(X, y)"
   ]
  },
  {
   "cell_type": "code",
   "execution_count": 12,
   "metadata": {},
   "outputs": [],
   "source": [
    "y_hat = reg.predict(X)"
   ]
  },
  {
   "cell_type": "code",
   "execution_count": 13,
   "metadata": {},
   "outputs": [
    {
     "data": {
      "text/plain": [
       "0.1257569123708743"
      ]
     },
     "execution_count": 13,
     "metadata": {},
     "output_type": "execute_result"
    }
   ],
   "source": [
    "((y_hat-y)**2).mean()"
   ]
  },
  {
   "cell_type": "code",
   "execution_count": 14,
   "metadata": {},
   "outputs": [],
   "source": [
    "def find_plot_pi_hat(y_hat, model, index):\n",
    "    pi_hat = np.ones((model.num_states, model.num_states, 1))\n",
    "    val_hat_ = np.zeros((model.num_states, model.num_states, 1))\n",
    "    val_hat_[index[:, 0], index[:, 1], 0] = y_hat\n",
    "\n",
    "    # compute the policy\n",
    "    for state in range(model.num_states):\n",
    "        for goal in model.goal_states_seq:\n",
    "            P = copy.deepcopy(model.P)\n",
    "            P[goal, :, :] = 0\n",
    "            P[goal, model.num_states - 1, :] = 1\n",
    "            pi_hat[state, goal] = np.argmax(np.sum(val_hat_[:, goal, :] * P[state,:,:],0))\n",
    "\n",
    "    # plot the results\n",
    "    path = \"../doc/imgs/value_iteration.png\"\n",
    "    plot_gridworld(model, value_function=value_function, policy=pi_hat,\n",
    "                   # title=\"Value iteration\",\n",
    "                   path=path,\n",
    "                   start_states=start_states_plot, goal_states=goal_states_plot)"
   ]
  },
  {
   "cell_type": "code",
   "execution_count": 15,
   "metadata": {},
   "outputs": [
    {
     "name": "stderr",
     "output_type": "stream",
     "text": [
      "../utils/helper_functions_multitask.py:10: VisibleDeprecationWarning: Creating an ndarray from ragged nested sequences (which is a list-or-tuple of lists-or-tuples-or ndarrays with different lengths or shapes) is deprecated. If you meant to do this, you must specify 'dtype=object' when creating the ndarray.\n",
      "  return np.array([[r, c]])\n",
      "../utils/helper_functions.py:10: VisibleDeprecationWarning: Creating an ndarray from ragged nested sequences (which is a list-or-tuple of lists-or-tuples-or ndarrays with different lengths or shapes) is deprecated. If you meant to do this, you must specify 'dtype=object' when creating the ndarray.\n",
      "  return np.array([[r, c]])\n",
      "/Users/ivananokhin/opt/anaconda3/lib/python3.8/site-packages/matplotlib/quiver.py:668: RuntimeWarning: Mean of empty slice.\n",
      "  amean = a[~self.Umask].mean()\n",
      "/Users/ivananokhin/opt/anaconda3/lib/python3.8/site-packages/numpy/core/_methods.py:188: RuntimeWarning: invalid value encountered in double_scalars\n",
      "  ret = ret.dtype.type(ret / rcount)\n"
     ]
    },
    {
     "name": "stdout",
     "output_type": "stream",
     "text": [
      "goal_reached 1\n",
      "goal_reached 1\n"
     ]
    },
    {
     "data": {
      "image/png": "[encoded data removed]",
      "text/plain": [
       "<Figure size 432x288 with 14 Axes>"
      ]
     },
     "metadata": {
      "needs_background": "light"
     },
     "output_type": "display_data"
    }
   ],
   "source": [
    "find_plot_pi_hat(y_hat, model, index)"
   ]
  },
  {
   "cell_type": "markdown",
   "metadata": {},
   "source": [
    "## Simple One-hidden-layer MLP"
   ]
  },
  {
   "cell_type": "code",
   "execution_count": 16,
   "metadata": {},
   "outputs": [],
   "source": [
    "import torch\n",
    "from torch import nn\n",
    "from torch.utils.data import DataLoader\n",
    "from sklearn.datasets import load_boston\n",
    "from sklearn.preprocessing import StandardScaler"
   ]
  },
  {
   "cell_type": "code",
   "execution_count": 17,
   "metadata": {},
   "outputs": [],
   "source": [
    "class ValueDataset(torch.utils.data.Dataset):\n",
    "    '''\n",
    "    Prepare the Boston dataset for regression\n",
    "    '''\n",
    "\n",
    "    def __init__(self, X, y, scale_data=True):\n",
    "        # Apply scaling if necessary\n",
    "        if scale_data:\n",
    "            X = StandardScaler().fit_transform(X)\n",
    "        self.X = torch.from_numpy(X)\n",
    "        self.y = torch.from_numpy(y)\n",
    "\n",
    "    def __len__(self):\n",
    "        return len(self.X)\n",
    "\n",
    "    def __getitem__(self, i):\n",
    "        return self.X[i], self.y[i]"
   ]
  },
  {
   "cell_type": "code",
   "execution_count": 22,
   "metadata": {},
   "outputs": [],
   "source": [
    "# Prepare dataset\n",
    "dataset = ValueDataset(X, y)\n",
    "trainloader = torch.utils.data.DataLoader(dataset, batch_size=70, shuffle=True, num_workers=0)"
   ]
  },
  {
   "cell_type": "code",
   "execution_count": 23,
   "metadata": {},
   "outputs": [
    {
     "data": {
      "text/plain": [
       "<torch.utils.data.dataloader.DataLoader at 0x7fb70d86b370>"
      ]
     },
     "execution_count": 23,
     "metadata": {},
     "output_type": "execute_result"
    }
   ],
   "source": [
    "trainloader"
   ]
  },
  {
   "cell_type": "code",
   "execution_count": 24,
   "metadata": {},
   "outputs": [],
   "source": [
    "class MLP(nn.Module):\n",
    "    def __init__(self, middle_dim=63):\n",
    "        super().__init__()\n",
    "        self.layers = nn.Sequential(\n",
    "          nn.Linear(4, middle_dim),\n",
    "              nn.LeakyReLU(),\n",
    "              nn.Linear(middle_dim, 1),\n",
    "#               nn.LeakyReLU(),\n",
    "#               nn.Linear(64, 1)\n",
    "        )\n",
    "\n",
    "\n",
    "    def forward(self, x):\n",
    "        return self.layers(x)"
   ]
  },
  {
   "cell_type": "code",
   "execution_count": 31,
   "metadata": {},
   "outputs": [],
   "source": [
    "# Initialize the MLP\n",
    "mlp = MLP()\n",
    "\n",
    "# Define the loss function and optimizer\n",
    "loss_function = nn.L1Loss()\n",
    "optimizer = torch.optim.SGD(mlp.parameters(), lr=1e-2)"
   ]
  },
  {
   "cell_type": "code",
   "execution_count": 32,
   "metadata": {},
   "outputs": [
    {
     "name": "stdout",
     "output_type": "stream",
     "text": [
      "Loss: 0.741\n",
      "Loss: 0.174\n",
      "Loss: 0.142\n",
      "Loss: 0.103\n",
      "Loss: 0.083\n",
      "Loss: 0.071\n",
      "Loss: 0.060\n",
      "Loss: 0.042\n",
      "Loss: 0.037\n",
      "Loss: 0.039\n",
      "Training process has finished.\n"
     ]
    }
   ],
   "source": [
    "# Run the training loop\n",
    "for epoch in range(0, 5000): # 5 epochs at maximum\n",
    "    # Print epoch\n",
    "#     print(f'Starting epoch {epoch+1}')\n",
    "\n",
    "    # Set current loss value\n",
    "    current_loss = 0.0\n",
    "\n",
    "    # Iterate over the DataLoader for training data\n",
    "    for i, data in enumerate(trainloader, 0):\n",
    "        # Get and prepare inputs\n",
    "        inputs, targets = data\n",
    "        inputs, targets = inputs.float(), targets.float()\n",
    "        targets = targets.reshape((targets.shape[0], 1))\n",
    "\n",
    "        # Zero the gradients\n",
    "        optimizer.zero_grad()\n",
    "\n",
    "        # Perform forward pass\n",
    "        outputs = mlp(inputs)\n",
    "\n",
    "        # Compute loss\n",
    "        loss = loss_function(outputs, targets)\n",
    "\n",
    "        # Perform backward pass\n",
    "        loss.backward()\n",
    "\n",
    "        # Perform optimization\n",
    "        optimizer.step()\n",
    "\n",
    "        # Print statistics\n",
    "        current_loss += loss.item()\n",
    "    \n",
    "    if epoch % 500 == 0:\n",
    "        print('Loss: %.3f' % (current_loss ))\n",
    "    current_loss = 0.0\n",
    "\n",
    "# Process is complete.\n",
    "print('Training process has finished.')"
   ]
  },
  {
   "cell_type": "code",
   "execution_count": 33,
   "metadata": {},
   "outputs": [],
   "source": [
    "predict = mlp(torch.tensor(StandardScaler().fit_transform(X)).float())[:, 0].detach().numpy()\n",
    "((y - predict)**2).mean()\n"
   ]
  },
  {
   "cell_type": "code",
   "execution_count": 36,
   "metadata": {},
   "outputs": [
    {
     "name": "stderr",
     "output_type": "stream",
     "text": [
      "../utils/helper_functions_multitask.py:10: VisibleDeprecationWarning: Creating an ndarray from ragged nested sequences (which is a list-or-tuple of lists-or-tuples-or ndarrays with different lengths or shapes) is deprecated. If you meant to do this, you must specify 'dtype=object' when creating the ndarray.\n",
      "  return np.array([[r, c]])\n",
      "../utils/helper_functions.py:10: VisibleDeprecationWarning: Creating an ndarray from ragged nested sequences (which is a list-or-tuple of lists-or-tuples-or ndarrays with different lengths or shapes) is deprecated. If you meant to do this, you must specify 'dtype=object' when creating the ndarray.\n",
      "  return np.array([[r, c]])\n",
      "/Users/ivananokhin/opt/anaconda3/lib/python3.8/site-packages/matplotlib/quiver.py:668: RuntimeWarning: Mean of empty slice.\n",
      "  amean = a[~self.Umask].mean()\n",
      "/Users/ivananokhin/opt/anaconda3/lib/python3.8/site-packages/numpy/core/_methods.py:188: RuntimeWarning: invalid value encountered in double_scalars\n",
      "  ret = ret.dtype.type(ret / rcount)\n"
     ]
    },
    {
     "name": "stdout",
     "output_type": "stream",
     "text": [
      "goal_reached 1\n",
      "goal_reached 1\n",
      "goal_reached 2\n",
      "goal_reached 2\n",
      "goal_reached 3\n",
      "goal_reached 4\n",
      "goal_reached 4\n",
      "goal_reached 2\n",
      "goal_reached 1\n",
      "goal_reached 1\n",
      "goal_reached 2\n",
      "goal_reached 3\n",
      "goal_reached 4\n",
      "goal_reached 4\n"
     ]
    },
    {
     "data": {
      "image/png": "[encoded data removed]",
      "text/plain": [
       "<Figure size 432x288 with 14 Axes>"
      ]
     },
     "metadata": {
      "needs_background": "light"
     },
     "output_type": "display_data"
    }
   ],
   "source": [
    "find_plot_pi_hat(predict, model, index)"
   ]
  },
  {
   "cell_type": "code",
   "execution_count": 37,
   "metadata": {},
   "outputs": [
    {
     "name": "stdout",
     "output_type": "stream",
     "text": [
      "goal_reached 1\n",
      "goal_reached 1\n",
      "goal_reached 2\n",
      "goal_reached 2\n",
      "goal_reached 3\n",
      "goal_reached 4\n",
      "goal_reached 4\n",
      "goal_reached 2\n",
      "goal_reached 1\n",
      "goal_reached 1\n",
      "goal_reached 2\n",
      "goal_reached 3\n",
      "goal_reached 4\n",
      "goal_reached 4\n"
     ]
    },
    {
     "data": {
      "image/png": "[encoded data removed]",
      "text/plain": [
       "<Figure size 432x288 with 14 Axes>"
      ]
     },
     "metadata": {
      "needs_background": "light"
     },
     "output_type": "display_data"
    }
   ],
   "source": [
    "find_plot_pi_hat(y, model, index)"
   ]
  },
  {
   "cell_type": "code",
   "execution_count": 95,
   "metadata": {},
   "outputs": [],
   "source": [
    "d = [{1: 2}, {4:7}]"
   ]
  },
  {
   "cell_type": "code",
   "execution_count": 96,
   "metadata": {},
   "outputs": [
    {
     "data": {
      "text/plain": [
       "{1: 2}"
      ]
     },
     "execution_count": 96,
     "metadata": {},
     "output_type": "execute_result"
    }
   ],
   "source": [
    "d[0]"
   ]
  },
  {
   "cell_type": "markdown",
   "metadata": {},
   "source": [
    "## Devide and Conquer  "
   ]
  },
  {
   "cell_type": "code",
   "execution_count": 207,
   "metadata": {},
   "outputs": [],
   "source": [
    "class ValueDataset(torch.utils.data.Dataset):\n",
    "    def __init__(self, value_function, start_states, goal_states, model, mean=None, std=None):\n",
    "        self.value_function = value_function\n",
    "        self.start_states = start_states\n",
    "        self.goal_states = goal_states\n",
    "        self.start_states_seq = row_col_to_seq(self.start_states, model.num_cols)\n",
    "        self.goal_states_seq = row_col_to_seq(self.goal_states, model.num_cols)\n",
    "        self.start_states = (self.start_states - mean) / std\n",
    "        self.goal_states = (self.goal_states - mean) / std\n",
    "        self.start_dict = {k: v for k, v in zip(self.start_states_seq, self.start_states)}\n",
    "        self.goal_dict = {k: v for k, v in zip(self.goal_states_seq, self.goal_states)}\n",
    "        \n",
    "    def __len__(self):\n",
    "        return len(self.start_states_seq)*len(self.goal_states_seq)\n",
    "\n",
    "    def __getitem__(self, idx):\n",
    "        s_idx = idx % len(self.goal_states_seq) #start index\n",
    "        g_idx = idx // len(self.goal_states_seq) #goal index\n",
    "        s = self.start_states_seq[s_idx]\n",
    "        g = self.goal_states_seq[g_idx]\n",
    "        if s==g:\n",
    "            g = self.goal_states_seq[np.random.randint(len(self.goal_states_seq)) % len(self.goal_states_seq)]\n",
    "        value = self.value_function[s, g]\n",
    "        x = np.hstack([self.start_dict[s], self.goal_dict[g]])\n",
    "        x_s_m = []\n",
    "        x_m_g = []\n",
    "        for m in self.start_states_seq:\n",
    "#             if m != s and m != g:\n",
    "                xsm = np.hstack([self.start_dict[s], self.goal_dict[m]])\n",
    "                xmg = np.hstack([self.start_dict[m], self.goal_dict[g]])\n",
    "                x_s_m.append(xsm)\n",
    "                x_m_g.append(xmg)\n",
    "\n",
    "        x_s_m = np.array(x_s_m)\n",
    "        x_m_g = np.array(x_m_g)\n",
    "        return x, x_s_m, x_m_g, value"
   ]
  },
  {
   "cell_type": "code",
   "execution_count": 208,
   "metadata": {},
   "outputs": [],
   "source": [
    "# Prepare dataset\n",
    "dataset = ValueDataset(value_function, start_states=goal_states, goal_states=goal_states,\n",
    "                       model=model, mean=0, std=1)\n",
    "trainloader = torch.utils.data.DataLoader(dataset, batch_size=70, shuffle=False, num_workers=0)"
   ]
  },
  {
   "cell_type": "code",
   "execution_count": 267,
   "metadata": {},
   "outputs": [],
   "source": [
    "class DC(nn.Module):\n",
    "    def __init__(self, middle_dim=32, n_states=7, states=None):\n",
    "        super().__init__()\n",
    "        self.layers = nn.Sequential(\n",
    "          nn.Linear(4, middle_dim),\n",
    "              nn.LeakyReLU(),\n",
    "              nn.Linear(middle_dim, 1),\n",
    "#               nn.LeakyReLU(),\n",
    "#               nn.Linear(64, 1)\n",
    "        )\n",
    "        \n",
    "        self.proba = nn.Sequential(\n",
    "            nn.Linear(4, 8),\n",
    "            nn.LeakyReLU(),\n",
    "            nn.Linear(8, n_states),\n",
    "            nn.Softmax()\n",
    "        )\n",
    "        \n",
    "        self.devide_proba = nn.Sequential(\n",
    "            nn.Linear(4, 1),\n",
    "            nn.Sigmoid()\n",
    "        )\n",
    "        \n",
    "        self.states = states\n",
    "        \n",
    "    def prepare_data(self, s, g):\n",
    "        x = np.hstack([s, g])\n",
    "        x_s_m = []\n",
    "        x_m_g = []\n",
    "        for m in self.states:\n",
    "            xsm = np.hstack([s, m])\n",
    "            xmg = np.hstack([m, g])\n",
    "            x_s_m.append(xsm)\n",
    "            x_m_g.append(xmg)\n",
    "        \n",
    "        x_s_m = np.array(x_s_m)\n",
    "        x_m_g = np.array(x_m_g)\n",
    "        \n",
    "        data = torch.tensor(x[None]).float(), torch.tensor(x_s_m[None]).float(), torch.tensor(x_m_g[None]).float()\n",
    "        \n",
    "        return data\n",
    "        \n",
    "\n",
    "    def forward(self, data):\n",
    "        x, x_s_m, x_m_g = data\n",
    "        p = self.proba(x)\n",
    "        devide_p = self.devide_proba(x)\n",
    "        y_x = self.layers(x)\n",
    "        y_xsm = self.layers(x_s_m)\n",
    "        y_xmg = self.layers(x_m_g)\n",
    "        y_main_path = devide_p * y_x \n",
    "        y_subpaths = (1-devide_p)*p*y_xsm[:, :, 0]*y_xmg[:, :, 0]\n",
    "        y_subpaths = y_subpaths.sum(1, keepdim=True)\n",
    "        y = y_main_path + y_subpaths\n",
    "        return y\n",
    "    \n",
    "    def get_propa(self, data):\n",
    "        x, x_s_m, x_m_g = data\n",
    "        p = self.proba(x)\n",
    "        devide_p = self.devide_proba(x)\n",
    "        return devide_p, p\n"
   ]
  },
  {
   "cell_type": "code",
   "execution_count": 268,
   "metadata": {},
   "outputs": [],
   "source": [
    "# Initialize the MLP\n",
    "mlp = DC(states=goal_states)\n",
    "\n",
    "# Define the loss function and optimizer\n",
    "loss_function = nn.L1Loss()\n",
    "optimizer = torch.optim.SGD(mlp.parameters(), lr=1e-2)"
   ]
  },
  {
   "cell_type": "code",
   "execution_count": 269,
   "metadata": {},
   "outputs": [
    {
     "name": "stdout",
     "output_type": "stream",
     "text": [
      "Loss: 0.812\n",
      "Loss: 0.078\n",
      "Loss: 0.060\n",
      "Loss: 0.062\n",
      "Loss: 0.037\n",
      "Loss: 0.025\n",
      "Loss: 0.029\n",
      "Loss: 0.026\n",
      "Loss: 0.027\n",
      "Loss: 0.024\n",
      "Training process has finished.\n"
     ]
    }
   ],
   "source": [
    "# Run the training loop\n",
    "for epoch in range(0, 5000): # 5 epochs at maximum\n",
    "    # Print epoch\n",
    "#     print(f'Starting epoch {epoch+1}')\n",
    "\n",
    "    # Set current loss value\n",
    "    current_loss = 0.0\n",
    "\n",
    "    # Iterate over the DataLoader for training data\n",
    "    for i, data in enumerate(trainloader, 0):\n",
    "        # Get and prepare inputs\n",
    "        x, x_s_m, x_m_g, targets = data\n",
    "        \n",
    "        x, x_s_m, x_m_g, targets = x.float(), x_s_m.float(), x_m_g.float(), targets.float()\n",
    "        targets = targets.reshape((targets.shape[0], 1))\n",
    "        inputs = x, x_s_m, x_m_g\n",
    "\n",
    "        # Zero the gradients\n",
    "        optimizer.zero_grad()\n",
    "\n",
    "        # Perform forward pass\n",
    "        outputs = mlp(inputs)\n",
    "#         print('outputs', outputs.shape, 'targets', targets.shape)\n",
    "\n",
    "        # Compute loss\n",
    "        loss = loss_function(outputs, targets)\n",
    "\n",
    "        # Perform backward pass\n",
    "        loss.backward()\n",
    "\n",
    "        # Perform optimization\n",
    "        optimizer.step()\n",
    "\n",
    "        # Print statistics\n",
    "        current_loss += loss.item()\n",
    "    \n",
    "    if epoch % 500 == 0:\n",
    "        print('Loss: %.3f' % (current_loss ))\n",
    "    current_loss = 0.0\n",
    "\n",
    "# Process is complete.\n",
    "print('Training process has finished.')"
   ]
  },
  {
   "cell_type": "code",
   "execution_count": 270,
   "metadata": {},
   "outputs": [],
   "source": [
    "predict = []\n",
    "for x in X:\n",
    "    s = x[:2]\n",
    "    g = x[2:]\n",
    "    data = mlp.prepare_data(s, g)\n",
    "    v = mlp(data)\n",
    "#     print(mlp.get_propa(data))\n",
    "    predict.append(v.detach().numpy()[:, 0])\n",
    "\n",
    "predict = np.array(predict)[:, 0]\n",
    "    \n",
    "    "
   ]
  },
  {
   "cell_type": "code",
   "execution_count": 271,
   "metadata": {},
   "outputs": [
    {
     "data": {
      "text/plain": [
       "0.13513955449654932"
      ]
     },
     "execution_count": 271,
     "metadata": {},
     "output_type": "execute_result"
    }
   ],
   "source": [
    "((y - predict)**2).mean()"
   ]
  },
  {
   "cell_type": "code",
   "execution_count": 332,
   "metadata": {},
   "outputs": [
    {
     "data": {
      "text/plain": [
       "0.8309489698388166"
      ]
     },
     "execution_count": 332,
     "metadata": {},
     "output_type": "execute_result"
    }
   ],
   "source": [
    "\n",
    "np.std(X)"
   ]
  },
  {
   "cell_type": "code",
   "execution_count": 272,
   "metadata": {},
   "outputs": [
    {
     "name": "stdout",
     "output_type": "stream",
     "text": [
      "goal_reached 1\n",
      "goal_reached 1\n",
      "goal_reached 2\n",
      "goal_reached 3\n",
      "goal_reached 1\n",
      "goal_reached 1\n",
      "goal_reached 2\n",
      "goal_reached 3\n"
     ]
    },
    {
     "data": {
      "image/png": "[encoded data removed]",
      "text/plain": [
       "<Figure size 432x288 with 14 Axes>"
      ]
     },
     "metadata": {
      "needs_background": "light"
     },
     "output_type": "display_data"
    }
   ],
   "source": [
    "find_plot_pi_hat(predict, model, index)"
   ]
  },
  {
   "cell_type": "markdown",
   "metadata": {},
   "source": [
    "# Devide and Conquer  2"
   ]
  },
  {
   "cell_type": "code",
   "execution_count": 431,
   "metadata": {},
   "outputs": [],
   "source": [
    "class ValueDataset(torch.utils.data.Dataset):\n",
    "    def __init__(self, value_function, start_states, goal_states, model, mean=None, std=None):\n",
    "        self.value_function = value_function\n",
    "        self.start_states = start_states\n",
    "        self.goal_states = goal_states\n",
    "        self.start_states_seq = row_col_to_seq(self.start_states, model.num_cols)\n",
    "        self.goal_states_seq = row_col_to_seq(self.goal_states, model.num_cols)\n",
    "        self.start_states = (self.start_states - mean) / std\n",
    "        self.goal_states = (self.goal_states - mean) / std\n",
    "        self.start_dict = {k: v for k, v in zip(self.start_states_seq, self.start_states)}\n",
    "        self.goal_dict = {k: v for k, v in zip(self.goal_states_seq, self.goal_states)}\n",
    "        \n",
    "    def __len__(self):\n",
    "        return len(self.start_states_seq)*len(self.goal_states_seq)\n",
    "\n",
    "    def __getitem__(self, idx):\n",
    "        s_idx = idx % len(self.goal_states_seq) #start index\n",
    "        g_idx = idx // len(self.goal_states_seq) #goal index\n",
    "        s = self.start_states_seq[s_idx]\n",
    "        g = self.goal_states_seq[g_idx]\n",
    "        if s==g:\n",
    "            g = self.goal_states_seq[np.random.randint(len(self.goal_states_seq)) % len(self.goal_states_seq)]\n",
    "        v_x = self.value_function[s, g]\n",
    "        x = np.hstack([self.start_dict[s], self.goal_dict[g]])\n",
    "        x_s_m = []\n",
    "        x_m_g = []\n",
    "        v_xsm = []\n",
    "        v_xmg = []\n",
    "        for m in self.start_states_seq:\n",
    "#             if m != s and m != g:\n",
    "                xsm = np.hstack([self.start_dict[s], self.goal_dict[m]])\n",
    "                xmg = np.hstack([self.start_dict[m], self.goal_dict[g]])\n",
    "                x_s_m.append(xsm)\n",
    "                x_m_g.append(xmg)\n",
    "                v_xsm.append(self.value_function[s, m])\n",
    "                v_xmg.append(self.value_function[m, g])\n",
    "\n",
    "        x_s_m = np.array(x_s_m)\n",
    "        x_m_g = np.array(x_m_g)\n",
    "        v_xsm = np.array(v_xsm)\n",
    "        v_xmg = np.array(v_xmg)\n",
    "        return x, x_s_m, x_m_g, v_x, v_xsm, v_xmg "
   ]
  },
  {
   "cell_type": "code",
   "execution_count": 460,
   "metadata": {},
   "outputs": [],
   "source": [
    "# Prepare dataset\n",
    "dataset = ValueDataset(value_function, start_states=goal_states, goal_states=goal_states,\n",
    "                       model=model, \n",
    "#                        mean=0., std=1.,\n",
    "                       mean=np.mean(X), std=np.std(X)\n",
    "                      )\n",
    "trainloader = torch.utils.data.DataLoader(dataset, batch_size=10, shuffle=False, num_workers=0)"
   ]
  },
  {
   "cell_type": "code",
   "execution_count": 468,
   "metadata": {},
   "outputs": [],
   "source": [
    "class DC(nn.Module):\n",
    "    def __init__(self, middle_dim=4, n_states=7, states=None):\n",
    "        super().__init__()\n",
    "        self.layers = nn.Sequential(\n",
    "          nn.Linear(4, middle_dim),\n",
    "              nn.LeakyReLU(),\n",
    "              nn.Linear(middle_dim, 1),\n",
    "#               nn.LeakyReLU(),\n",
    "#               nn.Linear(64, 1)\n",
    "        )\n",
    "        \n",
    "        p_middle_dim = 32\n",
    "        self.proba = nn.Sequential(\n",
    "            nn.Linear(4, p_middle_dim),\n",
    "            nn.LeakyReLU(),\n",
    "#             nn.Linear(p_middle_dim, p_middle_dim),\n",
    "#             nn.LeakyReLU(),\n",
    "            nn.Linear(p_middle_dim, n_states+1),\n",
    "            nn.Softmax()\n",
    "        )\n",
    "        \n",
    "#         self.devide_proba = nn.Sequential(\n",
    "#             nn.Linear(4, 1),\n",
    "#             nn.Sigmoid()\n",
    "#         )\n",
    "        \n",
    "        self.states = states\n",
    "        \n",
    "    def prepare_data(self, s, g):\n",
    "        x = np.hstack([s, g])\n",
    "        x_s_m = []\n",
    "        x_m_g = []\n",
    "        for m in self.states:\n",
    "            xsm = np.hstack([s, m])\n",
    "            xmg = np.hstack([m, g])\n",
    "            x_s_m.append(xsm)\n",
    "            x_m_g.append(xmg)\n",
    "        \n",
    "        x_s_m = np.array(x_s_m)\n",
    "        x_m_g = np.array(x_m_g)\n",
    "        \n",
    "        data = torch.tensor(x[None]).float(), torch.tensor(x_s_m[None]).float(), torch.tensor(x_m_g[None]).float()\n",
    "        \n",
    "        return data\n",
    "        \n",
    "\n",
    "    def forward(self, data):\n",
    "        x, x_s_m, x_m_g = data\n",
    "        p = self.proba(x)\n",
    "#         devide_p = self.devide_proba(x)\n",
    "        y_x = self.layers(x)\n",
    "        y_xsm = self.layers(x_s_m)\n",
    "        y_xmg = self.layers(x_m_g)\n",
    "#         p = torch.cat([devide_p, (1-devide_p)*p], 1)\n",
    "        subpaths = y_xsm[:, :, 0]*y_xmg[:, :, 0]\n",
    "        paths = torch.cat([y_x, subpaths.detach()], 1)\n",
    "        return p, paths, y_x, y_xsm, y_xmg\n",
    "    \n",
    "    def get_propa(self, data):\n",
    "        x, x_s_m, x_m_g = data\n",
    "        p = self.proba(x)\n",
    "        devide_p = self.devide_proba(x)\n",
    "        return devide_p, p\n"
   ]
  },
  {
   "cell_type": "code",
   "execution_count": 469,
   "metadata": {},
   "outputs": [],
   "source": [
    "# Initialize the MLP\n",
    "mlp = DC(states=goal_states)\n",
    "\n",
    "# Define the loss function and optimizer\n",
    "# loss_function = nn.L1Loss()\n",
    "optimizer = torch.optim.SGD(mlp.parameters(), lr=1e-2)"
   ]
  },
  {
   "cell_type": "code",
   "execution_count": 470,
   "metadata": {},
   "outputs": [
    {
     "name": "stdout",
     "output_type": "stream",
     "text": [
      "Loss: 12.786\n",
      "Loss: 0.629\n",
      "Loss: 0.365\n",
      "Loss: 0.338\n",
      "Loss: 0.260\n",
      "Loss: 0.301\n",
      "Loss: 0.278\n",
      "Loss: 0.258\n",
      "Loss: 0.274\n",
      "Loss: 0.237\n",
      "Loss: 0.242\n",
      "Loss: 0.241\n",
      "Loss: 0.276\n",
      "Loss: 0.270\n",
      "Loss: 0.257\n",
      "Loss: 0.222\n",
      "Loss: 0.220\n",
      "Loss: 0.260\n",
      "Loss: 0.234\n",
      "Loss: 0.226\n",
      "Loss: 0.268\n",
      "Loss: 0.273\n",
      "Loss: 0.226\n",
      "Loss: 0.267\n",
      "Loss: 0.318\n",
      "Loss: 0.240\n",
      "Loss: 0.248\n",
      "Loss: 0.212\n",
      "Loss: 0.301\n",
      "Loss: 0.278\n",
      "Loss: 0.244\n",
      "Loss: 0.237\n",
      "Loss: 0.275\n",
      "Loss: 0.330\n",
      "Loss: 0.257\n",
      "Loss: 0.240\n",
      "Loss: 0.236\n",
      "Loss: 0.260\n",
      "Loss: 0.261\n",
      "Loss: 0.267\n",
      "Loss: 0.250\n",
      "Loss: 0.289\n",
      "Loss: 0.219\n",
      "Loss: 0.233\n",
      "Loss: 0.220\n",
      "Loss: 0.289\n",
      "Loss: 0.266\n",
      "Loss: 0.300\n",
      "Loss: 0.245\n",
      "Loss: 0.232\n",
      "Loss: 0.229\n",
      "Loss: 0.248\n",
      "Loss: 0.247\n",
      "Loss: 0.312\n",
      "Loss: 0.261\n",
      "Loss: 0.254\n",
      "Loss: 0.263\n",
      "Loss: 0.266\n",
      "Loss: 0.292\n",
      "Loss: 0.271\n",
      "Loss: 0.264\n",
      "Loss: 0.268\n",
      "Loss: 0.244\n"
     ]
    },
    {
     "ename": "KeyboardInterrupt",
     "evalue": "",
     "output_type": "error",
     "traceback": [
      "\u001b[0;31m---------------------------------------------------------------------------\u001b[0m",
      "\u001b[0;31mKeyboardInterrupt\u001b[0m                         Traceback (most recent call last)",
      "\u001b[0;32m<ipython-input-470-b843e32efbb0>\u001b[0m in \u001b[0;36m<module>\u001b[0;34m\u001b[0m\n\u001b[1;32m     26\u001b[0m \u001b[0;31m#         loss = loss_function(outputs, targets)\u001b[0m\u001b[0;34m\u001b[0m\u001b[0;34m\u001b[0m\u001b[0;34m\u001b[0m\u001b[0m\n\u001b[1;32m     27\u001b[0m \u001b[0;31m#         print('outputs', outputs.shape, v_x.shape, p.shape)\u001b[0m\u001b[0;34m\u001b[0m\u001b[0;34m\u001b[0m\u001b[0;34m\u001b[0m\u001b[0m\n\u001b[0;32m---> 28\u001b[0;31m         \u001b[0mloss_p\u001b[0m \u001b[0;34m=\u001b[0m \u001b[0;34m(\u001b[0m\u001b[0mp\u001b[0m\u001b[0;34m*\u001b[0m\u001b[0mtorch\u001b[0m\u001b[0;34m.\u001b[0m\u001b[0mabs\u001b[0m\u001b[0;34m(\u001b[0m\u001b[0moutputs\u001b[0m\u001b[0;34m.\u001b[0m\u001b[0mdetach\u001b[0m\u001b[0;34m(\u001b[0m\u001b[0;34m)\u001b[0m\u001b[0;34m-\u001b[0m\u001b[0mv_x\u001b[0m\u001b[0;34m)\u001b[0m\u001b[0;34m)\u001b[0m\u001b[0;34m.\u001b[0m\u001b[0msum\u001b[0m\u001b[0;34m(\u001b[0m\u001b[0mdim\u001b[0m\u001b[0;34m=\u001b[0m\u001b[0;34m-\u001b[0m\u001b[0;36m1\u001b[0m\u001b[0;34m)\u001b[0m\u001b[0;34m.\u001b[0m\u001b[0mmean\u001b[0m\u001b[0;34m(\u001b[0m\u001b[0;36m0\u001b[0m\u001b[0;34m)\u001b[0m\u001b[0;34m\u001b[0m\u001b[0;34m\u001b[0m\u001b[0m\n\u001b[0m\u001b[1;32m     29\u001b[0m \u001b[0;31m#         print('p[:, :1]', p[:, :1].shape, y_x.shape, v_x.shape)\u001b[0m\u001b[0;34m\u001b[0m\u001b[0;34m\u001b[0m\u001b[0;34m\u001b[0m\u001b[0m\n\u001b[1;32m     30\u001b[0m         \u001b[0mloss_v_x\u001b[0m \u001b[0;34m=\u001b[0m \u001b[0;34m(\u001b[0m\u001b[0mp\u001b[0m\u001b[0;34m[\u001b[0m\u001b[0;34m:\u001b[0m\u001b[0;34m,\u001b[0m \u001b[0;34m:\u001b[0m\u001b[0;36m1\u001b[0m\u001b[0;34m]\u001b[0m\u001b[0;34m.\u001b[0m\u001b[0mdetach\u001b[0m\u001b[0;34m(\u001b[0m\u001b[0;34m)\u001b[0m\u001b[0;34m*\u001b[0m\u001b[0mtorch\u001b[0m\u001b[0;34m.\u001b[0m\u001b[0mabs\u001b[0m\u001b[0;34m(\u001b[0m\u001b[0my_x\u001b[0m\u001b[0;34m-\u001b[0m\u001b[0mv_x\u001b[0m\u001b[0;34m)\u001b[0m\u001b[0;34m)\u001b[0m\u001b[0;34m.\u001b[0m\u001b[0msum\u001b[0m\u001b[0;34m(\u001b[0m\u001b[0mdim\u001b[0m\u001b[0;34m=\u001b[0m\u001b[0;36m1\u001b[0m\u001b[0;34m)\u001b[0m\u001b[0;34m.\u001b[0m\u001b[0mmean\u001b[0m\u001b[0;34m(\u001b[0m\u001b[0;34m)\u001b[0m\u001b[0;34m\u001b[0m\u001b[0;34m\u001b[0m\u001b[0m\n",
      "\u001b[0;31mKeyboardInterrupt\u001b[0m: "
     ]
    }
   ],
   "source": [
    "# Run the training loop\n",
    "for epoch in range(0, 10000): # 5 epochs at maximum\n",
    "    # Print epoch\n",
    "#     print(f'Starting epoch {epoch+1}')\n",
    "\n",
    "    # Set current loss value\n",
    "    current_loss = 0.0\n",
    "\n",
    "    # Iterate over the DataLoader for training data\n",
    "    for i, data in enumerate(trainloader, 0):\n",
    "        # Get and prepare inputs\n",
    "        x, x_s_m, x_m_g, v_x, v_xsm, v_xmg  = data\n",
    "        \n",
    "        x, x_s_m, x_m_g, v_x, v_xsm, v_xmg  = x.float(), x_s_m.float(), x_m_g.float(), v_x.float(), v_xsm.float(), v_xmg.float()\n",
    "        inputs = x, x_s_m, x_m_g\n",
    "        v_x, v_xsm, v_xmg = v_x.unsqueeze(-1), v_xsm.unsqueeze(-1), v_xmg.unsqueeze(-1)\n",
    "\n",
    "        # Zero the gradients\n",
    "        optimizer.zero_grad()\n",
    "\n",
    "        # Perform forward pass\n",
    "        p, outputs, y_x, y_xsm, y_xmg = mlp(inputs)\n",
    "#         print('outputs', outputs.shape, 'targets', targets.shape, 'p', p.shape)\n",
    "\n",
    "        # Compute loss\n",
    "#         loss = loss_function(outputs, targets)\n",
    "#         print('outputs', outputs.shape, v_x.shape, p.shape)\n",
    "        loss_p = (p*torch.abs(outputs.detach()-v_x)).sum(dim=-1).mean(0)\n",
    "#         print('p[:, :1]', p[:, :1].shape, y_x.shape, v_x.shape)\n",
    "        loss_v_x = (p[:, :1].detach()*torch.abs(y_x-v_x)).sum(dim=1).mean()\n",
    "#         print('p[:, 1:]', p[:, 1:].shape, y_xsm.shape, v_xsm.shape)\n",
    "        loss_v_xsm = (p[:, 1:].unsqueeze(-1).detach()*torch.abs(y_xsm-v_xsm)).sum(dim=1).mean()\n",
    "        loss_v_xmg = (p[:, 1:].unsqueeze(-1).detach()*torch.abs(y_xmg-v_xmg)).sum(dim=1).mean()\n",
    "        loss = loss_p + loss_v_x + loss_v_xsm + loss_v_xmg\n",
    "\n",
    "        # Perform backward pass\n",
    "        loss.backward()\n",
    "\n",
    "        # Perform optimization\n",
    "        optimizer.step()\n",
    "\n",
    "        # Print statistics\n",
    "        current_loss += loss.item()\n",
    "    \n",
    "    if epoch % 500 == 0:\n",
    "        print('Loss: %.3f' % (current_loss ))\n",
    "    current_loss = 0.0\n",
    "\n",
    "# Process is complete.\n",
    "print('Training process has finished.')"
   ]
  },
  {
   "cell_type": "code",
   "execution_count": 471,
   "metadata": {
    "scrolled": false
   },
   "outputs": [
    {
     "name": "stdout",
     "output_type": "stream",
     "text": [
      "p tensor([[9.9995e-01, 7.8191e-06, 1.9909e-05, 7.7268e-06, 8.7281e-06, 4.2100e-06,\n",
      "         1.1799e-06, 1.1984e-06]], grad_fn=<SoftmaxBackward>)\n",
      "idx tensor(0)\n",
      "p tensor([[9.9970e-01, 3.8107e-05, 1.2854e-04, 5.4453e-05, 4.0752e-05, 1.7025e-05,\n",
      "         7.5146e-06, 9.0898e-06]], grad_fn=<SoftmaxBackward>)\n",
      "idx tensor(0)\n",
      "p tensor([[9.9949e-01, 5.8994e-05, 2.3125e-04, 1.0682e-04, 5.9706e-05, 1.9130e-05,\n",
      "         1.2149e-05, 1.7029e-05]], grad_fn=<SoftmaxBackward>)\n",
      "idx tensor(0)\n",
      "p tensor([[9.9951e-01, 6.4546e-05, 1.5742e-04, 9.3530e-05, 7.2004e-05, 5.4861e-05,\n",
      "         2.0343e-05, 2.5383e-05]], grad_fn=<SoftmaxBackward>)\n",
      "idx tensor(0)\n",
      "p tensor([[9.9933e-01, 9.1849e-05, 1.4167e-04, 1.0947e-04, 9.8384e-05, 1.3618e-04,\n",
      "         4.1650e-05, 4.9548e-05]], grad_fn=<SoftmaxBackward>)\n",
      "idx tensor(0)\n",
      "p tensor([[9.9835e-01, 1.8269e-04, 4.3059e-04, 3.0980e-04, 2.2082e-04, 2.5431e-04,\n",
      "         1.0542e-04, 1.4810e-04]], grad_fn=<SoftmaxBackward>)\n",
      "idx tensor(0)\n",
      "p tensor([[9.9989e-01, 1.6526e-05, 1.9833e-05, 1.3129e-05, 1.8151e-05, 2.9411e-05,\n",
      "         6.1294e-06, 5.4653e-06]], grad_fn=<SoftmaxBackward>)\n",
      "idx tensor(0)\n",
      "p tensor([[9.9983e-01, 2.5782e-05, 6.5771e-05, 2.8471e-05, 2.6339e-05, 1.4223e-05,\n",
      "         4.8864e-06, 4.7154e-06]], grad_fn=<SoftmaxBackward>)\n",
      "idx tensor(0)\n",
      "p tensor([[9.9921e-01, 9.6049e-05, 3.5177e-04, 1.4969e-04, 9.6936e-05, 4.7194e-05,\n",
      "         2.4866e-05, 2.6043e-05]], grad_fn=<SoftmaxBackward>)\n",
      "idx tensor(0)\n",
      "p tensor([[9.9897e-01, 9.5941e-05, 5.1591e-04, 2.0625e-04, 1.0319e-04, 4.0976e-05,\n",
      "         3.1242e-05, 3.5848e-05]], grad_fn=<SoftmaxBackward>)\n",
      "idx tensor(0)\n",
      "p tensor([[9.9862e-01, 1.5563e-04, 4.7749e-04, 2.4935e-04, 1.8194e-04, 1.5809e-04,\n",
      "         7.4605e-05, 7.8051e-05]], grad_fn=<SoftmaxBackward>)\n",
      "idx tensor(0)\n",
      "p tensor([[9.9922e-01, 8.1622e-05, 1.9148e-04, 1.0147e-04, 1.1454e-04, 1.7709e-04,\n",
      "         5.9051e-05, 5.4231e-05]], grad_fn=<SoftmaxBackward>)\n",
      "idx tensor(0)\n",
      "p tensor([[9.9816e-01, 1.5802e-04, 5.3815e-04, 2.6328e-04, 2.5572e-04, 3.2228e-04,\n",
      "         1.4155e-04, 1.6566e-04]], grad_fn=<SoftmaxBackward>)\n",
      "idx tensor(0)\n",
      "p tensor([[9.9983e-01, 2.3858e-05, 3.5607e-05, 2.0184e-05, 2.7840e-05, 4.4282e-05,\n",
      "         1.0671e-05, 8.1451e-06]], grad_fn=<SoftmaxBackward>)\n",
      "idx tensor(0)\n",
      "p tensor([[9.9970e-01, 4.1478e-05, 1.2300e-04, 5.1959e-05, 3.9545e-05, 2.3755e-05,\n",
      "         9.9180e-06, 9.8315e-06]], grad_fn=<SoftmaxBackward>)\n",
      "idx tensor(0)\n",
      "p tensor([[9.9882e-01, 1.1235e-04, 5.7204e-04, 2.1111e-04, 1.2685e-04, 7.3835e-05,\n",
      "         4.5337e-05, 4.1266e-05]], grad_fn=<SoftmaxBackward>)\n",
      "idx tensor(0)\n",
      "p tensor([[9.9892e-01, 7.7445e-05, 5.8159e-04, 1.8905e-04, 1.0140e-04, 4.9980e-05,\n",
      "         3.8442e-05, 3.8263e-05]], grad_fn=<SoftmaxBackward>)\n",
      "idx tensor(0)\n",
      "p tensor([[9.9872e-01, 1.1650e-04, 5.0071e-04, 1.7659e-04, 1.7429e-04, 1.6230e-04,\n",
      "         8.0479e-05, 7.2478e-05]], grad_fn=<SoftmaxBackward>)\n",
      "idx tensor(0)\n",
      "p tensor([[9.9954e-01, 3.5464e-05, 1.3489e-04, 4.8872e-05, 7.0817e-05, 1.0336e-04,\n",
      "         3.5003e-05, 2.7140e-05]], grad_fn=<SoftmaxBackward>)\n",
      "idx tensor(0)\n",
      "p tensor([[9.9873e-01, 8.0146e-05, 4.2622e-04, 1.3888e-04, 1.8672e-04, 2.3277e-04,\n",
      "         1.0033e-04, 1.0097e-04]], grad_fn=<SoftmaxBackward>)\n",
      "idx tensor(0)\n",
      "p tensor([[9.9992e-01, 8.9154e-06, 2.2132e-05, 8.2287e-06, 1.3426e-05, 2.0624e-05,\n",
      "         5.0717e-06, 3.4868e-06]], grad_fn=<SoftmaxBackward>)\n",
      "idx tensor(0)\n",
      "p tensor([[9.9991e-01, 1.5769e-05, 3.0070e-05, 1.2956e-05, 2.0202e-05, 9.4093e-06,\n",
      "         3.2414e-06, 3.0831e-06]], grad_fn=<SoftmaxBackward>)\n",
      "idx tensor(0)\n",
      "p tensor([[9.9940e-01, 8.9081e-05, 2.2283e-04, 8.9410e-05, 1.0647e-04, 4.7085e-05,\n",
      "         2.4103e-05, 2.5173e-05]], grad_fn=<SoftmaxBackward>)\n",
      "idx tensor(0)\n",
      "p tensor([[9.9906e-01, 1.1142e-04, 3.9302e-04, 1.5518e-04, 1.5065e-04, 5.5700e-05,\n",
      "         3.0419e-05, 4.3306e-05]], grad_fn=<SoftmaxBackward>)\n",
      "idx tensor(0)\n",
      "p tensor([[9.9887e-01, 1.5054e-04, 2.8569e-04, 1.6697e-04, 1.9444e-04, 1.7347e-04,\n",
      "         7.5461e-05, 7.9729e-05]], grad_fn=<SoftmaxBackward>)\n",
      "idx tensor(0)\n",
      "p tensor([[9.9955e-01, 5.2293e-05, 8.7868e-05, 5.5383e-05, 6.3224e-05, 1.1852e-04,\n",
      "         3.6890e-05, 3.8348e-05]], grad_fn=<SoftmaxBackward>)\n",
      "idx tensor(0)\n",
      "p tensor([[9.9938e-01, 6.3600e-05, 1.5636e-04, 9.5430e-05, 7.3702e-05, 1.2580e-04,\n",
      "         4.3227e-05, 6.4430e-05]], grad_fn=<SoftmaxBackward>)\n",
      "idx tensor(0)\n",
      "p tensor([[9.9984e-01, 2.1980e-05, 2.4254e-05, 1.4185e-05, 2.8955e-05, 5.2527e-05,\n",
      "         1.3177e-05, 9.0686e-06]], grad_fn=<SoftmaxBackward>)\n",
      "idx tensor(0)\n",
      "p tensor([[9.9976e-01, 3.7412e-05, 8.0304e-05, 3.3203e-05, 4.7652e-05, 2.4039e-05,\n",
      "         9.8832e-06, 9.0188e-06]], grad_fn=<SoftmaxBackward>)\n",
      "idx tensor(0)\n",
      "p tensor([[9.9844e-01, 2.1185e-04, 5.9300e-04, 2.3152e-04, 2.5175e-04, 1.2454e-04,\n",
      "         7.3940e-05, 7.3413e-05]], grad_fn=<SoftmaxBackward>)\n",
      "idx tensor(0)\n",
      "p tensor([[9.9840e-01, 1.6332e-04, 7.0638e-04, 2.5275e-04, 2.2835e-04, 1.0440e-04,\n",
      "         6.1518e-05, 7.9601e-05]], grad_fn=<SoftmaxBackward>)\n",
      "idx tensor(0)\n",
      "p tensor([[9.9782e-01, 2.5867e-04, 5.7924e-04, 2.9333e-04, 3.4055e-04, 3.6201e-04,\n",
      "         1.7273e-04, 1.7340e-04]], grad_fn=<SoftmaxBackward>)\n",
      "idx tensor(0)\n",
      "p tensor([[9.9886e-01, 1.1010e-04, 2.0701e-04, 1.0353e-04, 1.5932e-04, 3.4293e-04,\n",
      "         1.1449e-04, 1.0403e-04]], grad_fn=<SoftmaxBackward>)\n",
      "idx tensor(0)\n",
      "p tensor([[9.9871e-01, 1.0956e-04, 3.1871e-04, 1.3857e-04, 1.6534e-04, 2.9692e-04,\n",
      "         1.1807e-04, 1.4468e-04]], grad_fn=<SoftmaxBackward>)\n",
      "idx tensor(0)\n",
      "p tensor([[9.9972e-01, 3.2153e-05, 4.3014e-05, 2.1467e-05, 4.6883e-05, 9.8146e-05,\n",
      "         2.5023e-05, 1.6636e-05]], grad_fn=<SoftmaxBackward>)\n",
      "idx tensor(0)\n",
      "p tensor([[9.9960e-01, 5.8741e-05, 1.3638e-04, 5.5153e-05, 7.3056e-05, 3.8442e-05,\n",
      "         1.7530e-05, 1.7089e-05]], grad_fn=<SoftmaxBackward>)\n",
      "idx tensor(0)\n",
      "p tensor([[9.9821e-01, 1.9638e-04, 7.1081e-04, 2.7277e-04, 2.6054e-04, 1.5775e-04,\n",
      "         9.3605e-05, 9.7196e-05]], grad_fn=<SoftmaxBackward>)\n",
      "idx tensor(0)\n",
      "p tensor([[9.9830e-01, 1.2782e-04, 8.1501e-04, 2.5233e-04, 2.1113e-04, 1.3000e-04,\n",
      "         7.3305e-05, 9.1032e-05]], grad_fn=<SoftmaxBackward>)\n",
      "idx tensor(0)\n",
      "p tensor([[9.9786e-01, 2.0170e-04, 6.2800e-04, 2.3181e-04, 3.2475e-04, 3.8538e-04,\n",
      "         1.8444e-04, 1.8065e-04]], grad_fn=<SoftmaxBackward>)\n",
      "idx tensor(0)\n",
      "p tensor([[9.9919e-01, 6.1143e-05, 1.6746e-04, 5.6041e-05, 1.2390e-04, 2.5459e-04,\n",
      "         8.2360e-05, 6.5743e-05]], grad_fn=<SoftmaxBackward>)\n",
      "idx tensor(0)\n",
      "p tensor([[9.9841e-01, 1.0195e-04, 3.9471e-04, 1.2662e-04, 2.3629e-04, 3.9554e-04,\n",
      "         1.5674e-04, 1.7762e-04]], grad_fn=<SoftmaxBackward>)\n",
      "idx tensor(0)\n",
      "p tensor([[9.9982e-01, 1.6490e-05, 3.3728e-05, 1.2242e-05, 3.0028e-05, 6.3659e-05,\n",
      "         1.5776e-05, 1.0363e-05]], grad_fn=<SoftmaxBackward>)\n",
      "idx tensor(0)\n",
      "p tensor([[9.9989e-01, 1.6840e-05, 3.0440e-05, 1.1428e-05, 2.8668e-05, 1.3081e-05,\n",
      "         5.0780e-06, 4.5498e-06]], grad_fn=<SoftmaxBackward>)\n",
      "idx tensor(0)\n",
      "p tensor([[9.9968e-01, 4.0904e-05, 1.0473e-04, 3.4725e-05, 7.2057e-05, 3.7053e-05,\n",
      "         1.3897e-05, 1.5189e-05]], grad_fn=<SoftmaxBackward>)\n",
      "idx tensor(0)\n",
      "p tensor([[9.9953e-01, 5.0254e-05, 1.7384e-04, 5.4894e-05, 9.3930e-05, 5.1846e-05,\n",
      "         1.6224e-05, 2.5187e-05]], grad_fn=<SoftmaxBackward>)\n",
      "idx tensor(0)\n",
      "p tensor([[9.9972e-01, 3.2145e-05, 7.2080e-05, 2.9602e-05, 5.1091e-05, 5.8259e-05,\n",
      "         1.9914e-05, 2.1097e-05]], grad_fn=<SoftmaxBackward>)\n",
      "idx tensor(0)\n",
      "p tensor([[9.9989e-01, 1.0055e-05, 2.1454e-05, 8.7668e-06, 1.4235e-05, 3.7802e-05,\n",
      "         9.6045e-06, 9.0464e-06]], grad_fn=<SoftmaxBackward>)\n",
      "idx tensor(0)\n",
      "p tensor([[9.9986e-01, 1.2332e-05, 3.7052e-05, 1.4704e-05, 1.6092e-05, 3.8323e-05,\n",
      "         9.7443e-06, 1.4844e-05]], grad_fn=<SoftmaxBackward>)\n",
      "idx tensor(0)\n",
      "p tensor([[9.9997e-01, 3.1701e-06, 4.8909e-06, 1.9684e-06, 5.4125e-06, 1.1566e-05,\n",
      "         2.5021e-06, 1.6657e-06]], grad_fn=<SoftmaxBackward>)\n",
      "idx tensor(0)\n",
      "p tensor([[9.9977e-01, 3.2983e-05, 6.4017e-05, 2.3327e-05, 5.6660e-05, 2.7534e-05,\n",
      "         1.2195e-05, 1.1063e-05]], grad_fn=<SoftmaxBackward>)\n",
      "idx tensor(0)\n",
      "p tensor([[9.9945e-01, 6.6559e-05, 1.8049e-04, 5.9169e-05, 1.2101e-04, 6.6338e-05,\n",
      "         2.7055e-05, 3.0868e-05]], grad_fn=<SoftmaxBackward>)\n",
      "idx tensor(0)\n",
      "p tensor([[9.9915e-01, 8.2389e-05, 3.1704e-04, 9.6472e-05, 1.5997e-04, 1.0706e-04,\n",
      "         3.5518e-05, 5.3388e-05]], grad_fn=<SoftmaxBackward>)\n",
      "idx tensor(0)\n",
      "p tensor([[9.9904e-01, 1.0065e-04, 2.1849e-04, 8.5410e-05, 1.7182e-04, 2.1465e-04,\n",
      "         8.4790e-05, 8.8532e-05]], grad_fn=<SoftmaxBackward>)\n",
      "idx tensor(0)\n",
      "p tensor([[9.9969e-01, 2.5491e-05, 5.5313e-05, 1.9119e-05, 3.9875e-05, 1.0929e-04,\n",
      "         3.1813e-05, 2.7387e-05]], grad_fn=<SoftmaxBackward>)\n",
      "idx tensor(0)\n",
      "p tensor([[9.9966e-01, 2.5410e-05, 8.0652e-05, 2.6492e-05, 4.0467e-05, 1.0337e-04,\n",
      "         2.7405e-05, 3.7844e-05]], grad_fn=<SoftmaxBackward>)\n",
      "idx tensor(0)\n",
      "p tensor([[9.9992e-01, 7.3325e-06, 1.1792e-05, 4.1962e-06, 1.3425e-05, 2.9813e-05,\n",
      "         7.5071e-06, 4.7263e-06]], grad_fn=<SoftmaxBackward>)\n",
      "idx tensor(0)\n",
      "p tensor([[9.9972e-01, 3.6863e-05, 7.8483e-05, 2.8650e-05, 6.7950e-05, 3.5434e-05,\n",
      "         1.4963e-05, 1.5323e-05]], grad_fn=<SoftmaxBackward>)\n",
      "idx tensor(0)\n",
      "p tensor([[9.9938e-01, 6.8428e-05, 1.9804e-04, 6.9629e-05, 1.2783e-04, 8.1495e-05,\n",
      "         3.1388e-05, 4.0365e-05]], grad_fn=<SoftmaxBackward>)\n",
      "idx tensor(0)\n",
      "p tensor([[9.9890e-01, 9.0597e-05, 4.2103e-04, 1.2456e-04, 1.8604e-04, 1.4847e-04,\n",
      "         5.2479e-05, 7.6928e-05]], grad_fn=<SoftmaxBackward>)\n",
      "idx tensor(0)\n",
      "p tensor([[9.9842e-01, 1.4915e-04, 3.3170e-04, 1.2176e-04, 2.8953e-04, 3.7759e-04,\n",
      "         1.4445e-04, 1.6781e-04]], grad_fn=<SoftmaxBackward>)\n",
      "idx tensor(0)\n",
      "p tensor([[9.9958e-01, 2.9354e-05, 7.4353e-05, 2.0652e-05, 5.9837e-05, 1.4857e-04,\n",
      "         4.5513e-05, 3.8555e-05]], grad_fn=<SoftmaxBackward>)\n",
      "idx tensor(0)\n",
      "p tensor([[9.9955e-01, 2.6154e-05, 1.0321e-04, 2.5044e-05, 6.1737e-05, 1.4576e-04,\n",
      "         3.9457e-05, 5.0679e-05]], grad_fn=<SoftmaxBackward>)\n",
      "idx tensor(0)\n",
      "p tensor([[9.9988e-01, 8.5565e-06, 1.7597e-05, 4.9998e-06, 1.8878e-05, 4.6792e-05,\n",
      "         1.1522e-05, 7.3477e-06]], grad_fn=<SoftmaxBackward>)\n",
      "idx tensor(0)\n"
     ]
    }
   ],
   "source": [
    "predict = []\n",
    "for x in X:\n",
    "    x = (x - np.mean(X)) / np.std(X)\n",
    "    s = x[:2]\n",
    "    g = x[2:]\n",
    "    data = mlp.prepare_data(s, g)\n",
    "    p, v, y_x, y_xsm, y_xmg = mlp(data)\n",
    "    print('p', p)\n",
    "    idx = p.argmax()\n",
    "    print('idx', idx)\n",
    "#     print(mlp.get_propa(data))\n",
    "    predict.append(v.detach().numpy()[:, 0])\n",
    "\n",
    "predict = np.array(predict)[:, 0]\n",
    "    \n",
    "    "
   ]
  },
  {
   "cell_type": "code",
   "execution_count": null,
   "metadata": {},
   "outputs": [],
   "source": []
  },
  {
   "cell_type": "code",
   "execution_count": null,
   "metadata": {},
   "outputs": [],
   "source": []
  }
 ],
 "metadata": {
  "kernelspec": {
   "display_name": "Python 3",
   "language": "python",
   "name": "python3"
  },
  "language_info": {
   "codemirror_mode": {
    "name": "ipython",
    "version": 3
   },
   "file_extension": ".py",
   "mimetype": "text/x-python",
   "name": "python",
   "nbconvert_exporter": "python",
   "pygments_lexer": "ipython3",
   "version": "3.8.8"
  }
 },
 "nbformat": 4,
 "nbformat_minor": 1
}
